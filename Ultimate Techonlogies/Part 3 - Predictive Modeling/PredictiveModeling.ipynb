{
 "cells": [
  {
   "cell_type": "markdown",
   "metadata": {},
   "source": [
    "# Active User - Predictive Modeling\n",
    "***\n",
    "# 1. Cleaning, Exploratory Analysis & Visualizations\n",
    "### Import Necessary Libraries & Load Dataset"
   ]
  },
  {
   "cell_type": "code",
   "execution_count": 1,
   "metadata": {},
   "outputs": [],
   "source": [
    "# import necessary libraries\n",
    "import matplotlib.pyplot as plt\n",
    "import seaborn as sns\n",
    "import pandas as pd\n",
    "import numpy as np\n",
    "import json"
   ]
  },
  {
   "cell_type": "code",
   "execution_count": 2,
   "metadata": {
    "scrolled": false
   },
   "outputs": [
    {
     "name": "stdout",
     "output_type": "stream",
     "text": [
      "Ultimate Dataset:\n"
     ]
    },
    {
     "data": {
      "text/html": [
       "<div>\n",
       "<style scoped>\n",
       "    .dataframe tbody tr th:only-of-type {\n",
       "        vertical-align: middle;\n",
       "    }\n",
       "\n",
       "    .dataframe tbody tr th {\n",
       "        vertical-align: top;\n",
       "    }\n",
       "\n",
       "    .dataframe thead th {\n",
       "        text-align: right;\n",
       "    }\n",
       "</style>\n",
       "<table border=\"1\" class=\"dataframe\">\n",
       "  <thead>\n",
       "    <tr style=\"text-align: right;\">\n",
       "      <th></th>\n",
       "      <th>city</th>\n",
       "      <th>trips_in_first_30_days</th>\n",
       "      <th>signup_date</th>\n",
       "      <th>avg_rating_of_driver</th>\n",
       "      <th>avg_surge</th>\n",
       "      <th>last_trip_date</th>\n",
       "      <th>phone</th>\n",
       "      <th>surge_pct</th>\n",
       "      <th>ultimate_black_user</th>\n",
       "      <th>weekday_pct</th>\n",
       "      <th>avg_dist</th>\n",
       "      <th>avg_rating_by_driver</th>\n",
       "    </tr>\n",
       "  </thead>\n",
       "  <tbody>\n",
       "    <tr>\n",
       "      <td>0</td>\n",
       "      <td>King's Landing</td>\n",
       "      <td>4</td>\n",
       "      <td>2014-01-25</td>\n",
       "      <td>4.7</td>\n",
       "      <td>1.10</td>\n",
       "      <td>2014-06-17</td>\n",
       "      <td>iPhone</td>\n",
       "      <td>15.4</td>\n",
       "      <td>True</td>\n",
       "      <td>46.2</td>\n",
       "      <td>3.67</td>\n",
       "      <td>5.0</td>\n",
       "    </tr>\n",
       "    <tr>\n",
       "      <td>1</td>\n",
       "      <td>Astapor</td>\n",
       "      <td>0</td>\n",
       "      <td>2014-01-29</td>\n",
       "      <td>5.0</td>\n",
       "      <td>1.00</td>\n",
       "      <td>2014-05-05</td>\n",
       "      <td>Android</td>\n",
       "      <td>0.0</td>\n",
       "      <td>False</td>\n",
       "      <td>50.0</td>\n",
       "      <td>8.26</td>\n",
       "      <td>5.0</td>\n",
       "    </tr>\n",
       "    <tr>\n",
       "      <td>2</td>\n",
       "      <td>Astapor</td>\n",
       "      <td>3</td>\n",
       "      <td>2014-01-06</td>\n",
       "      <td>4.3</td>\n",
       "      <td>1.00</td>\n",
       "      <td>2014-01-07</td>\n",
       "      <td>iPhone</td>\n",
       "      <td>0.0</td>\n",
       "      <td>False</td>\n",
       "      <td>100.0</td>\n",
       "      <td>0.77</td>\n",
       "      <td>5.0</td>\n",
       "    </tr>\n",
       "    <tr>\n",
       "      <td>3</td>\n",
       "      <td>King's Landing</td>\n",
       "      <td>9</td>\n",
       "      <td>2014-01-10</td>\n",
       "      <td>4.6</td>\n",
       "      <td>1.14</td>\n",
       "      <td>2014-06-29</td>\n",
       "      <td>iPhone</td>\n",
       "      <td>20.0</td>\n",
       "      <td>True</td>\n",
       "      <td>80.0</td>\n",
       "      <td>2.36</td>\n",
       "      <td>4.9</td>\n",
       "    </tr>\n",
       "    <tr>\n",
       "      <td>4</td>\n",
       "      <td>Winterfell</td>\n",
       "      <td>14</td>\n",
       "      <td>2014-01-27</td>\n",
       "      <td>4.4</td>\n",
       "      <td>1.19</td>\n",
       "      <td>2014-03-15</td>\n",
       "      <td>Android</td>\n",
       "      <td>11.8</td>\n",
       "      <td>False</td>\n",
       "      <td>82.4</td>\n",
       "      <td>3.13</td>\n",
       "      <td>4.9</td>\n",
       "    </tr>\n",
       "    <tr>\n",
       "      <td>...</td>\n",
       "      <td>...</td>\n",
       "      <td>...</td>\n",
       "      <td>...</td>\n",
       "      <td>...</td>\n",
       "      <td>...</td>\n",
       "      <td>...</td>\n",
       "      <td>...</td>\n",
       "      <td>...</td>\n",
       "      <td>...</td>\n",
       "      <td>...</td>\n",
       "      <td>...</td>\n",
       "      <td>...</td>\n",
       "    </tr>\n",
       "    <tr>\n",
       "      <td>49995</td>\n",
       "      <td>King's Landing</td>\n",
       "      <td>0</td>\n",
       "      <td>2014-01-25</td>\n",
       "      <td>5.0</td>\n",
       "      <td>1.00</td>\n",
       "      <td>2014-06-05</td>\n",
       "      <td>iPhone</td>\n",
       "      <td>0.0</td>\n",
       "      <td>False</td>\n",
       "      <td>100.0</td>\n",
       "      <td>5.63</td>\n",
       "      <td>4.2</td>\n",
       "    </tr>\n",
       "    <tr>\n",
       "      <td>49996</td>\n",
       "      <td>Astapor</td>\n",
       "      <td>1</td>\n",
       "      <td>2014-01-24</td>\n",
       "      <td>NaN</td>\n",
       "      <td>1.00</td>\n",
       "      <td>2014-01-25</td>\n",
       "      <td>iPhone</td>\n",
       "      <td>0.0</td>\n",
       "      <td>False</td>\n",
       "      <td>0.0</td>\n",
       "      <td>0.00</td>\n",
       "      <td>4.0</td>\n",
       "    </tr>\n",
       "    <tr>\n",
       "      <td>49997</td>\n",
       "      <td>Winterfell</td>\n",
       "      <td>0</td>\n",
       "      <td>2014-01-31</td>\n",
       "      <td>5.0</td>\n",
       "      <td>1.00</td>\n",
       "      <td>2014-05-22</td>\n",
       "      <td>Android</td>\n",
       "      <td>0.0</td>\n",
       "      <td>True</td>\n",
       "      <td>100.0</td>\n",
       "      <td>3.86</td>\n",
       "      <td>5.0</td>\n",
       "    </tr>\n",
       "    <tr>\n",
       "      <td>49998</td>\n",
       "      <td>Astapor</td>\n",
       "      <td>2</td>\n",
       "      <td>2014-01-14</td>\n",
       "      <td>3.0</td>\n",
       "      <td>1.00</td>\n",
       "      <td>2014-01-15</td>\n",
       "      <td>iPhone</td>\n",
       "      <td>0.0</td>\n",
       "      <td>False</td>\n",
       "      <td>100.0</td>\n",
       "      <td>4.58</td>\n",
       "      <td>3.5</td>\n",
       "    </tr>\n",
       "    <tr>\n",
       "      <td>49999</td>\n",
       "      <td>Astapor</td>\n",
       "      <td>0</td>\n",
       "      <td>2014-01-18</td>\n",
       "      <td>NaN</td>\n",
       "      <td>1.00</td>\n",
       "      <td>2014-04-20</td>\n",
       "      <td>Android</td>\n",
       "      <td>0.0</td>\n",
       "      <td>False</td>\n",
       "      <td>0.0</td>\n",
       "      <td>3.49</td>\n",
       "      <td>5.0</td>\n",
       "    </tr>\n",
       "  </tbody>\n",
       "</table>\n",
       "<p>50000 rows × 12 columns</p>\n",
       "</div>"
      ],
      "text/plain": [
       "                 city  trips_in_first_30_days signup_date  \\\n",
       "0      King's Landing                       4  2014-01-25   \n",
       "1             Astapor                       0  2014-01-29   \n",
       "2             Astapor                       3  2014-01-06   \n",
       "3      King's Landing                       9  2014-01-10   \n",
       "4          Winterfell                      14  2014-01-27   \n",
       "...               ...                     ...         ...   \n",
       "49995  King's Landing                       0  2014-01-25   \n",
       "49996         Astapor                       1  2014-01-24   \n",
       "49997      Winterfell                       0  2014-01-31   \n",
       "49998         Astapor                       2  2014-01-14   \n",
       "49999         Astapor                       0  2014-01-18   \n",
       "\n",
       "       avg_rating_of_driver  avg_surge last_trip_date    phone  surge_pct  \\\n",
       "0                       4.7       1.10     2014-06-17   iPhone       15.4   \n",
       "1                       5.0       1.00     2014-05-05  Android        0.0   \n",
       "2                       4.3       1.00     2014-01-07   iPhone        0.0   \n",
       "3                       4.6       1.14     2014-06-29   iPhone       20.0   \n",
       "4                       4.4       1.19     2014-03-15  Android       11.8   \n",
       "...                     ...        ...            ...      ...        ...   \n",
       "49995                   5.0       1.00     2014-06-05   iPhone        0.0   \n",
       "49996                   NaN       1.00     2014-01-25   iPhone        0.0   \n",
       "49997                   5.0       1.00     2014-05-22  Android        0.0   \n",
       "49998                   3.0       1.00     2014-01-15   iPhone        0.0   \n",
       "49999                   NaN       1.00     2014-04-20  Android        0.0   \n",
       "\n",
       "       ultimate_black_user  weekday_pct  avg_dist  avg_rating_by_driver  \n",
       "0                     True         46.2      3.67                   5.0  \n",
       "1                    False         50.0      8.26                   5.0  \n",
       "2                    False        100.0      0.77                   5.0  \n",
       "3                     True         80.0      2.36                   4.9  \n",
       "4                    False         82.4      3.13                   4.9  \n",
       "...                    ...          ...       ...                   ...  \n",
       "49995                False        100.0      5.63                   4.2  \n",
       "49996                False          0.0      0.00                   4.0  \n",
       "49997                 True        100.0      3.86                   5.0  \n",
       "49998                False        100.0      4.58                   3.5  \n",
       "49999                False          0.0      3.49                   5.0  \n",
       "\n",
       "[50000 rows x 12 columns]"
      ]
     },
     "metadata": {},
     "output_type": "display_data"
    },
    {
     "name": "stdout",
     "output_type": "stream",
     "text": [
      "Is NaN:\n",
      "\n",
      "city                         0\n",
      "trips_in_first_30_days       0\n",
      "signup_date                  0\n",
      "avg_rating_of_driver      8122\n",
      "avg_surge                    0\n",
      "last_trip_date               0\n",
      "phone                      396\n",
      "surge_pct                    0\n",
      "ultimate_black_user          0\n",
      "weekday_pct                  0\n",
      "avg_dist                     0\n",
      "avg_rating_by_driver       201\n",
      "dtype: int64\n"
     ]
    }
   ],
   "source": [
    "# load ultimate dataset\n",
    "raw_ultimate = pd.io.json.json_normalize(json.load(open('ultimate_data.json')))\n",
    "\n",
    "# display ultimate dataset\n",
    "print('Ultimate Dataset:')\n",
    "display(raw_ultimate)\n",
    "\n",
    "# print missing data counts\n",
    "print('Is NaN:\\n\\n{}'.format(raw_ultimate.isna().sum()))"
   ]
  },
  {
   "cell_type": "markdown",
   "metadata": {},
   "source": [
    "## 1.1. Preprocessing (Cleaning)\n",
    "### Missing Data\n",
    "As it can be seen from the missing data summary above, the raw ultimate dataset contains missing data in a few columns. Since much of the missing data corresponds to non-active users, which there is way more of than active users, we will just remove rows with missing data in them. Below is an updated count of missing data after performing the removal of rows with missing data. "
   ]
  },
  {
   "cell_type": "code",
   "execution_count": 3,
   "metadata": {},
   "outputs": [
    {
     "name": "stdout",
     "output_type": "stream",
     "text": [
      "Is NaN:\n",
      "\n",
      "city                      0\n",
      "trips_in_first_30_days    0\n",
      "signup_date               0\n",
      "avg_rating_of_driver      0\n",
      "avg_surge                 0\n",
      "last_trip_date            0\n",
      "phone                     0\n",
      "surge_pct                 0\n",
      "ultimate_black_user       0\n",
      "weekday_pct               0\n",
      "avg_dist                  0\n",
      "avg_rating_by_driver      0\n",
      "dtype: int64\n"
     ]
    }
   ],
   "source": [
    "# drop rows with missing data\n",
    "raw_ultimate.dropna(inplace=True)\n",
    "\n",
    "# updated number of missing values in dataset\n",
    "print('Is NaN:\\n\\n{}'.format(raw_ultimate.isna().sum()))"
   ]
  },
  {
   "cell_type": "markdown",
   "metadata": {},
   "source": [
    "### Create Active Column\n",
    "Using the last trip date column, we can classify a user as either active or non-active; if their last trip date falls on the month of June, which is the last month tested for, they are classified as active users."
   ]
  },
  {
   "cell_type": "code",
   "execution_count": 30,
   "metadata": {},
   "outputs": [
    {
     "name": "stdout",
     "output_type": "stream",
     "text": [
      "Updated Ultimate Dataset:\n"
     ]
    },
    {
     "data": {
      "text/html": [
       "<div>\n",
       "<style scoped>\n",
       "    .dataframe tbody tr th:only-of-type {\n",
       "        vertical-align: middle;\n",
       "    }\n",
       "\n",
       "    .dataframe tbody tr th {\n",
       "        vertical-align: top;\n",
       "    }\n",
       "\n",
       "    .dataframe thead th {\n",
       "        text-align: right;\n",
       "    }\n",
       "</style>\n",
       "<table border=\"1\" class=\"dataframe\">\n",
       "  <thead>\n",
       "    <tr style=\"text-align: right;\">\n",
       "      <th></th>\n",
       "      <th>city</th>\n",
       "      <th>trips_in_first_30_days</th>\n",
       "      <th>signup_day</th>\n",
       "      <th>avg_rating_of_driver</th>\n",
       "      <th>avg_surge</th>\n",
       "      <th>phone</th>\n",
       "      <th>surge_pct</th>\n",
       "      <th>ultimate_black_user</th>\n",
       "      <th>weekday_pct</th>\n",
       "      <th>avg_dist</th>\n",
       "      <th>avg_rating_by_driver</th>\n",
       "      <th>active</th>\n",
       "    </tr>\n",
       "  </thead>\n",
       "  <tbody>\n",
       "    <tr>\n",
       "      <td>0</td>\n",
       "      <td>King's Landing</td>\n",
       "      <td>4</td>\n",
       "      <td>2.5</td>\n",
       "      <td>4.7</td>\n",
       "      <td>1.10</td>\n",
       "      <td>iPhone</td>\n",
       "      <td>15.4</td>\n",
       "      <td>True</td>\n",
       "      <td>46.2</td>\n",
       "      <td>3.67</td>\n",
       "      <td>5.0</td>\n",
       "      <td>True</td>\n",
       "    </tr>\n",
       "    <tr>\n",
       "      <td>1</td>\n",
       "      <td>Astapor</td>\n",
       "      <td>0</td>\n",
       "      <td>2.9</td>\n",
       "      <td>5.0</td>\n",
       "      <td>1.00</td>\n",
       "      <td>Android</td>\n",
       "      <td>0.0</td>\n",
       "      <td>False</td>\n",
       "      <td>50.0</td>\n",
       "      <td>8.26</td>\n",
       "      <td>5.0</td>\n",
       "      <td>False</td>\n",
       "    </tr>\n",
       "    <tr>\n",
       "      <td>2</td>\n",
       "      <td>Astapor</td>\n",
       "      <td>3</td>\n",
       "      <td>0.6</td>\n",
       "      <td>4.3</td>\n",
       "      <td>1.00</td>\n",
       "      <td>iPhone</td>\n",
       "      <td>0.0</td>\n",
       "      <td>False</td>\n",
       "      <td>100.0</td>\n",
       "      <td>0.77</td>\n",
       "      <td>5.0</td>\n",
       "      <td>False</td>\n",
       "    </tr>\n",
       "    <tr>\n",
       "      <td>3</td>\n",
       "      <td>King's Landing</td>\n",
       "      <td>9</td>\n",
       "      <td>1.0</td>\n",
       "      <td>4.6</td>\n",
       "      <td>1.14</td>\n",
       "      <td>iPhone</td>\n",
       "      <td>20.0</td>\n",
       "      <td>True</td>\n",
       "      <td>80.0</td>\n",
       "      <td>2.36</td>\n",
       "      <td>4.9</td>\n",
       "      <td>True</td>\n",
       "    </tr>\n",
       "    <tr>\n",
       "      <td>4</td>\n",
       "      <td>Winterfell</td>\n",
       "      <td>14</td>\n",
       "      <td>2.7</td>\n",
       "      <td>4.4</td>\n",
       "      <td>1.19</td>\n",
       "      <td>Android</td>\n",
       "      <td>11.8</td>\n",
       "      <td>False</td>\n",
       "      <td>82.4</td>\n",
       "      <td>3.13</td>\n",
       "      <td>4.9</td>\n",
       "      <td>False</td>\n",
       "    </tr>\n",
       "    <tr>\n",
       "      <td>...</td>\n",
       "      <td>...</td>\n",
       "      <td>...</td>\n",
       "      <td>...</td>\n",
       "      <td>...</td>\n",
       "      <td>...</td>\n",
       "      <td>...</td>\n",
       "      <td>...</td>\n",
       "      <td>...</td>\n",
       "      <td>...</td>\n",
       "      <td>...</td>\n",
       "      <td>...</td>\n",
       "      <td>...</td>\n",
       "    </tr>\n",
       "    <tr>\n",
       "      <td>49993</td>\n",
       "      <td>Astapor</td>\n",
       "      <td>3</td>\n",
       "      <td>0.3</td>\n",
       "      <td>4.8</td>\n",
       "      <td>1.11</td>\n",
       "      <td>iPhone</td>\n",
       "      <td>11.1</td>\n",
       "      <td>True</td>\n",
       "      <td>55.6</td>\n",
       "      <td>2.53</td>\n",
       "      <td>4.7</td>\n",
       "      <td>False</td>\n",
       "    </tr>\n",
       "    <tr>\n",
       "      <td>49994</td>\n",
       "      <td>Astapor</td>\n",
       "      <td>1</td>\n",
       "      <td>0.3</td>\n",
       "      <td>4.6</td>\n",
       "      <td>1.44</td>\n",
       "      <td>iPhone</td>\n",
       "      <td>37.5</td>\n",
       "      <td>False</td>\n",
       "      <td>25.0</td>\n",
       "      <td>2.25</td>\n",
       "      <td>4.5</td>\n",
       "      <td>False</td>\n",
       "    </tr>\n",
       "    <tr>\n",
       "      <td>49995</td>\n",
       "      <td>King's Landing</td>\n",
       "      <td>0</td>\n",
       "      <td>2.5</td>\n",
       "      <td>5.0</td>\n",
       "      <td>1.00</td>\n",
       "      <td>iPhone</td>\n",
       "      <td>0.0</td>\n",
       "      <td>False</td>\n",
       "      <td>100.0</td>\n",
       "      <td>5.63</td>\n",
       "      <td>4.2</td>\n",
       "      <td>True</td>\n",
       "    </tr>\n",
       "    <tr>\n",
       "      <td>49997</td>\n",
       "      <td>Winterfell</td>\n",
       "      <td>0</td>\n",
       "      <td>3.1</td>\n",
       "      <td>5.0</td>\n",
       "      <td>1.00</td>\n",
       "      <td>Android</td>\n",
       "      <td>0.0</td>\n",
       "      <td>True</td>\n",
       "      <td>100.0</td>\n",
       "      <td>3.86</td>\n",
       "      <td>5.0</td>\n",
       "      <td>False</td>\n",
       "    </tr>\n",
       "    <tr>\n",
       "      <td>49998</td>\n",
       "      <td>Astapor</td>\n",
       "      <td>2</td>\n",
       "      <td>1.4</td>\n",
       "      <td>3.0</td>\n",
       "      <td>1.00</td>\n",
       "      <td>iPhone</td>\n",
       "      <td>0.0</td>\n",
       "      <td>False</td>\n",
       "      <td>100.0</td>\n",
       "      <td>4.58</td>\n",
       "      <td>3.5</td>\n",
       "      <td>False</td>\n",
       "    </tr>\n",
       "  </tbody>\n",
       "</table>\n",
       "<p>41445 rows × 12 columns</p>\n",
       "</div>"
      ],
      "text/plain": [
       "                 city  trips_in_first_30_days  signup_day  \\\n",
       "0      King's Landing                       4         2.5   \n",
       "1             Astapor                       0         2.9   \n",
       "2             Astapor                       3         0.6   \n",
       "3      King's Landing                       9         1.0   \n",
       "4          Winterfell                      14         2.7   \n",
       "...               ...                     ...         ...   \n",
       "49993         Astapor                       3         0.3   \n",
       "49994         Astapor                       1         0.3   \n",
       "49995  King's Landing                       0         2.5   \n",
       "49997      Winterfell                       0         3.1   \n",
       "49998         Astapor                       2         1.4   \n",
       "\n",
       "       avg_rating_of_driver  avg_surge    phone  surge_pct  \\\n",
       "0                       4.7       1.10   iPhone       15.4   \n",
       "1                       5.0       1.00  Android        0.0   \n",
       "2                       4.3       1.00   iPhone        0.0   \n",
       "3                       4.6       1.14   iPhone       20.0   \n",
       "4                       4.4       1.19  Android       11.8   \n",
       "...                     ...        ...      ...        ...   \n",
       "49993                   4.8       1.11   iPhone       11.1   \n",
       "49994                   4.6       1.44   iPhone       37.5   \n",
       "49995                   5.0       1.00   iPhone        0.0   \n",
       "49997                   5.0       1.00  Android        0.0   \n",
       "49998                   3.0       1.00   iPhone        0.0   \n",
       "\n",
       "       ultimate_black_user  weekday_pct  avg_dist  avg_rating_by_driver  \\\n",
       "0                     True         46.2      3.67                   5.0   \n",
       "1                    False         50.0      8.26                   5.0   \n",
       "2                    False        100.0      0.77                   5.0   \n",
       "3                     True         80.0      2.36                   4.9   \n",
       "4                    False         82.4      3.13                   4.9   \n",
       "...                    ...          ...       ...                   ...   \n",
       "49993                 True         55.6      2.53                   4.7   \n",
       "49994                False         25.0      2.25                   4.5   \n",
       "49995                False        100.0      5.63                   4.2   \n",
       "49997                 True        100.0      3.86                   5.0   \n",
       "49998                False        100.0      4.58                   3.5   \n",
       "\n",
       "       active  \n",
       "0        True  \n",
       "1       False  \n",
       "2       False  \n",
       "3        True  \n",
       "4       False  \n",
       "...       ...  \n",
       "49993   False  \n",
       "49994   False  \n",
       "49995    True  \n",
       "49997   False  \n",
       "49998   False  \n",
       "\n",
       "[41445 rows x 12 columns]"
      ]
     },
     "metadata": {},
     "output_type": "display_data"
    },
    {
     "name": "stdout",
     "output_type": "stream",
     "text": [
      "Active to Non Ratio: 0.40\n"
     ]
    }
   ],
   "source": [
    "# create a copy dataset to clean\n",
    "ultimate = pd.DataFrame(raw_ultimate).rename(columns={'signup_date':'signup_day'})\n",
    "# signup day to integer\n",
    "ultimate.signup_day = pd.to_datetime(ultimate.signup_day).dt.day / 10\n",
    "\n",
    "# last trip date to datetime data type\n",
    "ultimate.last_trip_date = pd.to_datetime(raw_ultimate.last_trip_date)\n",
    "# create active column based on activity of the last month\n",
    "ultimate['active'] = (ultimate.last_trip_date.dt.month == 6)\n",
    "# drop last_trip_date column\n",
    "ultimate.drop(columns='last_trip_date', inplace=True)\n",
    "\n",
    "# display updated dataset\n",
    "print('Updated Ultimate Dataset:')\n",
    "display(ultimate)\n",
    "\n",
    "# calculate & show active user ratio\n",
    "active_ratio = np.mean(ultimate.active)\n",
    "print('Active to Non Ratio: {:.2f}'.format(active_ratio))"
   ]
  },
  {
   "cell_type": "markdown",
   "metadata": {},
   "source": [
    "> **Active User Ratio:**\n",
    "> As it can be seen above, about 40% of the users who signed up for Ultimate's services classified as active users.\n",
    "\n",
    "### Feature Normalization\n",
    "In order to avoid outliers or skewed data to affect our predictive model's performance, the functions log and tanh functions will be applied to certain numerical columns."
   ]
  },
  {
   "cell_type": "code",
   "execution_count": 5,
   "metadata": {},
   "outputs": [
    {
     "name": "stdout",
     "output_type": "stream",
     "text": [
      "Original Feature Stats:\n"
     ]
    },
    {
     "data": {
      "text/html": [
       "<div>\n",
       "<style scoped>\n",
       "    .dataframe tbody tr th:only-of-type {\n",
       "        vertical-align: middle;\n",
       "    }\n",
       "\n",
       "    .dataframe tbody tr th {\n",
       "        vertical-align: top;\n",
       "    }\n",
       "\n",
       "    .dataframe thead th {\n",
       "        text-align: right;\n",
       "    }\n",
       "</style>\n",
       "<table border=\"1\" class=\"dataframe\">\n",
       "  <thead>\n",
       "    <tr style=\"text-align: right;\">\n",
       "      <th></th>\n",
       "      <th>trips_in_first_30_days</th>\n",
       "      <th>avg_rating_of_driver</th>\n",
       "      <th>avg_surge</th>\n",
       "      <th>surge_pct</th>\n",
       "      <th>weekday_pct</th>\n",
       "      <th>avg_dist</th>\n",
       "      <th>avg_rating_by_driver</th>\n",
       "    </tr>\n",
       "  </thead>\n",
       "  <tbody>\n",
       "    <tr>\n",
       "      <td>count</td>\n",
       "      <td>41445.000000</td>\n",
       "      <td>41445.000000</td>\n",
       "      <td>41445.000000</td>\n",
       "      <td>41445.000000</td>\n",
       "      <td>41445.000000</td>\n",
       "      <td>41445.000000</td>\n",
       "      <td>41445.000000</td>\n",
       "    </tr>\n",
       "    <tr>\n",
       "      <td>mean</td>\n",
       "      <td>2.609675</td>\n",
       "      <td>4.601720</td>\n",
       "      <td>1.073822</td>\n",
       "      <td>8.898709</td>\n",
       "      <td>61.254897</td>\n",
       "      <td>5.460046</td>\n",
       "      <td>4.776446</td>\n",
       "    </tr>\n",
       "    <tr>\n",
       "      <td>std</td>\n",
       "      <td>4.059336</td>\n",
       "      <td>0.616104</td>\n",
       "      <td>0.198747</td>\n",
       "      <td>18.322061</td>\n",
       "      <td>34.813848</td>\n",
       "      <td>5.145174</td>\n",
       "      <td>0.404606</td>\n",
       "    </tr>\n",
       "    <tr>\n",
       "      <td>min</td>\n",
       "      <td>0.000000</td>\n",
       "      <td>1.000000</td>\n",
       "      <td>1.000000</td>\n",
       "      <td>0.000000</td>\n",
       "      <td>0.000000</td>\n",
       "      <td>0.000000</td>\n",
       "      <td>1.000000</td>\n",
       "    </tr>\n",
       "    <tr>\n",
       "      <td>25%</td>\n",
       "      <td>0.000000</td>\n",
       "      <td>4.300000</td>\n",
       "      <td>1.000000</td>\n",
       "      <td>0.000000</td>\n",
       "      <td>37.500000</td>\n",
       "      <td>2.420000</td>\n",
       "      <td>4.700000</td>\n",
       "    </tr>\n",
       "    <tr>\n",
       "      <td>50%</td>\n",
       "      <td>1.000000</td>\n",
       "      <td>4.900000</td>\n",
       "      <td>1.000000</td>\n",
       "      <td>0.000000</td>\n",
       "      <td>66.700000</td>\n",
       "      <td>3.780000</td>\n",
       "      <td>5.000000</td>\n",
       "    </tr>\n",
       "    <tr>\n",
       "      <td>75%</td>\n",
       "      <td>3.000000</td>\n",
       "      <td>5.000000</td>\n",
       "      <td>1.070000</td>\n",
       "      <td>11.100000</td>\n",
       "      <td>100.000000</td>\n",
       "      <td>6.490000</td>\n",
       "      <td>5.000000</td>\n",
       "    </tr>\n",
       "    <tr>\n",
       "      <td>max</td>\n",
       "      <td>125.000000</td>\n",
       "      <td>5.000000</td>\n",
       "      <td>8.000000</td>\n",
       "      <td>100.000000</td>\n",
       "      <td>100.000000</td>\n",
       "      <td>79.690000</td>\n",
       "      <td>5.000000</td>\n",
       "    </tr>\n",
       "  </tbody>\n",
       "</table>\n",
       "</div>"
      ],
      "text/plain": [
       "       trips_in_first_30_days  avg_rating_of_driver     avg_surge  \\\n",
       "count            41445.000000          41445.000000  41445.000000   \n",
       "mean                 2.609675              4.601720      1.073822   \n",
       "std                  4.059336              0.616104      0.198747   \n",
       "min                  0.000000              1.000000      1.000000   \n",
       "25%                  0.000000              4.300000      1.000000   \n",
       "50%                  1.000000              4.900000      1.000000   \n",
       "75%                  3.000000              5.000000      1.070000   \n",
       "max                125.000000              5.000000      8.000000   \n",
       "\n",
       "          surge_pct   weekday_pct      avg_dist  avg_rating_by_driver  \n",
       "count  41445.000000  41445.000000  41445.000000          41445.000000  \n",
       "mean       8.898709     61.254897      5.460046              4.776446  \n",
       "std       18.322061     34.813848      5.145174              0.404606  \n",
       "min        0.000000      0.000000      0.000000              1.000000  \n",
       "25%        0.000000     37.500000      2.420000              4.700000  \n",
       "50%        0.000000     66.700000      3.780000              5.000000  \n",
       "75%       11.100000    100.000000      6.490000              5.000000  \n",
       "max      100.000000    100.000000     79.690000              5.000000  "
      ]
     },
     "metadata": {},
     "output_type": "display_data"
    }
   ],
   "source": [
    "# display original dataset statistics\n",
    "print('Original Feature Stats:')\n",
    "display(raw_ultimate.describe())"
   ]
  },
  {
   "cell_type": "code",
   "execution_count": 6,
   "metadata": {},
   "outputs": [
    {
     "name": "stdout",
     "output_type": "stream",
     "text": [
      "Standardized & Normalized Feature Stats:\n"
     ]
    },
    {
     "data": {
      "text/html": [
       "<div>\n",
       "<style scoped>\n",
       "    .dataframe tbody tr th:only-of-type {\n",
       "        vertical-align: middle;\n",
       "    }\n",
       "\n",
       "    .dataframe tbody tr th {\n",
       "        vertical-align: top;\n",
       "    }\n",
       "\n",
       "    .dataframe thead th {\n",
       "        text-align: right;\n",
       "    }\n",
       "</style>\n",
       "<table border=\"1\" class=\"dataframe\">\n",
       "  <thead>\n",
       "    <tr style=\"text-align: right;\">\n",
       "      <th></th>\n",
       "      <th>trips_in_first_30_days</th>\n",
       "      <th>signup_day</th>\n",
       "      <th>avg_rating_of_driver</th>\n",
       "      <th>avg_surge</th>\n",
       "      <th>surge_pct</th>\n",
       "      <th>weekday_pct</th>\n",
       "      <th>avg_dist</th>\n",
       "      <th>avg_rating_by_driver</th>\n",
       "    </tr>\n",
       "  </thead>\n",
       "  <tbody>\n",
       "    <tr>\n",
       "      <td>count</td>\n",
       "      <td>41445.000000</td>\n",
       "      <td>41445.000000</td>\n",
       "      <td>41445.000000</td>\n",
       "      <td>41445.000000</td>\n",
       "      <td>41445.000000</td>\n",
       "      <td>41445.000000</td>\n",
       "      <td>41445.000000</td>\n",
       "      <td>41445.000000</td>\n",
       "    </tr>\n",
       "    <tr>\n",
       "      <td>mean</td>\n",
       "      <td>0.935424</td>\n",
       "      <td>1.646775</td>\n",
       "      <td>0.636411</td>\n",
       "      <td>-0.935431</td>\n",
       "      <td>2.688732</td>\n",
       "      <td>3.582965</td>\n",
       "      <td>1.658319</td>\n",
       "      <td>0.698049</td>\n",
       "    </tr>\n",
       "    <tr>\n",
       "      <td>std</td>\n",
       "      <td>0.780050</td>\n",
       "      <td>0.873806</td>\n",
       "      <td>0.224232</td>\n",
       "      <td>0.027751</td>\n",
       "      <td>0.615877</td>\n",
       "      <td>1.551596</td>\n",
       "      <td>0.606926</td>\n",
       "      <td>0.141455</td>\n",
       "    </tr>\n",
       "    <tr>\n",
       "      <td>min</td>\n",
       "      <td>0.000000</td>\n",
       "      <td>0.100000</td>\n",
       "      <td>-0.761594</td>\n",
       "      <td>-0.941376</td>\n",
       "      <td>2.302585</td>\n",
       "      <td>0.000000</td>\n",
       "      <td>0.000000</td>\n",
       "      <td>-0.761594</td>\n",
       "    </tr>\n",
       "    <tr>\n",
       "      <td>25%</td>\n",
       "      <td>0.000000</td>\n",
       "      <td>0.900000</td>\n",
       "      <td>0.571670</td>\n",
       "      <td>-0.941376</td>\n",
       "      <td>2.302585</td>\n",
       "      <td>3.650658</td>\n",
       "      <td>1.229641</td>\n",
       "      <td>0.691069</td>\n",
       "    </tr>\n",
       "    <tr>\n",
       "      <td>50%</td>\n",
       "      <td>0.693147</td>\n",
       "      <td>1.700000</td>\n",
       "      <td>0.739783</td>\n",
       "      <td>-0.941376</td>\n",
       "      <td>2.302585</td>\n",
       "      <td>4.215086</td>\n",
       "      <td>1.564441</td>\n",
       "      <td>0.761594</td>\n",
       "    </tr>\n",
       "    <tr>\n",
       "      <td>75%</td>\n",
       "      <td>1.386294</td>\n",
       "      <td>2.400000</td>\n",
       "      <td>0.761594</td>\n",
       "      <td>-0.937258</td>\n",
       "      <td>3.049273</td>\n",
       "      <td>4.615121</td>\n",
       "      <td>2.013569</td>\n",
       "      <td>0.761594</td>\n",
       "    </tr>\n",
       "    <tr>\n",
       "      <td>max</td>\n",
       "      <td>4.836282</td>\n",
       "      <td>3.100000</td>\n",
       "      <td>0.761594</td>\n",
       "      <td>0.941376</td>\n",
       "      <td>4.700480</td>\n",
       "      <td>4.615121</td>\n",
       "      <td>4.390615</td>\n",
       "      <td>0.761594</td>\n",
       "    </tr>\n",
       "  </tbody>\n",
       "</table>\n",
       "</div>"
      ],
      "text/plain": [
       "       trips_in_first_30_days    signup_day  avg_rating_of_driver  \\\n",
       "count            41445.000000  41445.000000          41445.000000   \n",
       "mean                 0.935424      1.646775              0.636411   \n",
       "std                  0.780050      0.873806              0.224232   \n",
       "min                  0.000000      0.100000             -0.761594   \n",
       "25%                  0.000000      0.900000              0.571670   \n",
       "50%                  0.693147      1.700000              0.739783   \n",
       "75%                  1.386294      2.400000              0.761594   \n",
       "max                  4.836282      3.100000              0.761594   \n",
       "\n",
       "          avg_surge     surge_pct   weekday_pct      avg_dist  \\\n",
       "count  41445.000000  41445.000000  41445.000000  41445.000000   \n",
       "mean      -0.935431      2.688732      3.582965      1.658319   \n",
       "std        0.027751      0.615877      1.551596      0.606926   \n",
       "min       -0.941376      2.302585      0.000000      0.000000   \n",
       "25%       -0.941376      2.302585      3.650658      1.229641   \n",
       "50%       -0.941376      2.302585      4.215086      1.564441   \n",
       "75%       -0.937258      3.049273      4.615121      2.013569   \n",
       "max        0.941376      4.700480      4.615121      4.390615   \n",
       "\n",
       "       avg_rating_by_driver  \n",
       "count          41445.000000  \n",
       "mean               0.698049  \n",
       "std                0.141455  \n",
       "min               -0.761594  \n",
       "25%                0.691069  \n",
       "50%                0.761594  \n",
       "75%                0.761594  \n",
       "max                0.761594  "
      ]
     },
     "metadata": {},
     "output_type": "display_data"
    }
   ],
   "source": [
    "# Normalize columns using log\n",
    "ultimate.trips_in_first_30_days = np.log(raw_ultimate.trips_in_first_30_days + 1)\n",
    "ultimate.surge_pct = np.log(raw_ultimate.surge_pct + 10)\n",
    "ultimate.weekday_pct = np.log(raw_ultimate.weekday_pct + 1)\n",
    "ultimate.avg_dist = np.log(raw_ultimate.avg_dist + 1)\n",
    "\n",
    "# Normalize columns using tanh\n",
    "ultimate.avg_surge = np.tanh(raw_ultimate.avg_surge * 0.5 - 2.25)\n",
    "ultimate.avg_rating_of_driver = np.tanh(raw_ultimate.avg_rating_of_driver * 0.5 - 1.5) \n",
    "ultimate.avg_rating_by_driver = np.tanh(raw_ultimate.avg_rating_by_driver * 0.5 - 1.5)\n",
    "\n",
    "# standardized & normalized ultimate dataset's statistics\n",
    "print('Standardized & Normalized Feature Stats:')\n",
    "display(ultimate.describe())"
   ]
  },
  {
   "cell_type": "markdown",
   "metadata": {},
   "source": [
    "> **Normalized Columns:**\n",
    "> Columns with a wide range and highly sweked values were normalized with the log function which treats 1, 10 and 100 much more similar than a linear scale does; columns under this category were the trips in first 30 days, surge percentage, weekday percentage and average distance columns. Further, if columns did not span a wide range of values but were highly skewed, normalization was applied to them using the tanh function; columns under this category were the average rating of driver, average rating by driver and average surge columns.\n",
    "\n",
    "## 1.2. Data Exploration & Visualization\n",
    "### Feature vs. Active Correlations\n",
    "Here we will look at what features correlate the most with a user being either active or non-active. The closer a feature's correlation value is to +/- 1, the stronger the correlation between the feature and the user's active status; if a feature's correlation value is close to a value of +1, it means that the probability of a user being active increases as that feature increases as well, but if it is closer to -1, then it means that the probability of a user being active decreases as that feature's value increases. "
   ]
  },
  {
   "cell_type": "code",
   "execution_count": 7,
   "metadata": {},
   "outputs": [
    {
     "name": "stdout",
     "output_type": "stream",
     "text": [
      "Active User Correlations:\n",
      "\n",
      "city_King's Landing       0.246630\n",
      "phone_iPhone              0.227386\n",
      "ultimate_black_user       0.211595\n",
      "trips_in_first_30_days    0.173995\n",
      "weekday_pct               0.143555\n",
      "surge_pct                 0.105713\n",
      "avg_rating_of_driver      0.005576\n",
      "avg_rating_by_driver      0.004203\n",
      "signup_day               -0.013999\n",
      "avg_surge                -0.025779\n",
      "city_Winterfell          -0.039257\n",
      "avg_dist                 -0.040326\n",
      "city_Astapor             -0.173199\n",
      "phone_Android            -0.227386\n",
      "Name: active, dtype: float64\n"
     ]
    }
   ],
   "source": [
    "# one-hot encode categorical features & get correlations\n",
    "ult_corr = pd.get_dummies(ultimate, columns=['city', 'phone'], drop_first=False).corr()\n",
    "\n",
    "# filter for feature correlations w.r.t. active users\n",
    "act_corr = ult_corr.active.sort_values(ascending=False)[1:]\n",
    "\n",
    "# print correlations w.r.t. active status\n",
    "print('Active User Correlations:\\n\\n{}'.format(act_corr))"
   ]
  },
  {
   "cell_type": "markdown",
   "metadata": {},
   "source": [
    "> **Feature vs. Active Correlations:**\n",
    "> As it can be seen from above, the strongest positive correlations belong to whether or not the user belongs to King's Landing, if they have an iPhone and/or if they are a black ultimate user. On the other hand, the strongest negative feature correlations to a user being active were the user having an Android phone and/or whether they belong to the city of Astapor. We will explore this correlations in further detail below. \n",
    "\n",
    "### Balanced Dataset w/ Equal Active & Non-Active Users\n",
    "In order to accurately compare how active and non-active users correlate with certain features, we have to create a balanced dataset that contains an equal number of active and non-active users. We can do this by only keeping a random sample of non-active users equal in size to the number of active users; we can keep all active users, since there are less active users than non-active users."
   ]
  },
  {
   "cell_type": "code",
   "execution_count": 8,
   "metadata": {},
   "outputs": [],
   "source": [
    "# boolean mask of active users\n",
    "active = ultimate.active\n",
    "# number of active users\n",
    "len_act = active.sum()\n",
    "\n",
    "# active users dataset\n",
    "bal_act = ultimate[active]\n",
    "# random sample of non-active users \n",
    "bal_nact = ultimate[~active].sample(len_act)\n",
    "\n",
    "# concatenate balanced datasets\n",
    "balanced = pd.concat([bal_act, bal_nact])"
   ]
  },
  {
   "cell_type": "markdown",
   "metadata": {},
   "source": [
    "### Balanced Dataset Grouped by Select Features\n",
    "Once a balanced dataset has been created, we can now visualize the categorical features with the highest correlation to a user's active status. We can do this by grouping users into their respective category and counting the number of active vs. non-active users within each category."
   ]
  },
  {
   "cell_type": "code",
   "execution_count": 9,
   "metadata": {},
   "outputs": [],
   "source": [
    "def bar_config(width, categories):\n",
    "    \"\"\" Configure x-tick & bar locations for bar plot (using # of categories being plotted) \"\"\"\n",
    "    \n",
    "    # set x tick locations\n",
    "    loc = np.arange(len(categories))\n",
    "    # set left bar midpoint \n",
    "    left_mid = loc - width / 2\n",
    "    # set rigtht bar midpoint\n",
    "    right_mid = loc + width / 2\n",
    "    \n",
    "    # return x-tick locations & left and right bar midpoints\n",
    "    return loc, left_mid, right_mid"
   ]
  },
  {
   "cell_type": "code",
   "execution_count": 10,
   "metadata": {},
   "outputs": [],
   "source": [
    "def bar_active_feature(feature, width):\n",
    "    \"\"\" Plot side-by-side bar plots of select features \"\"\"\n",
    "    \n",
    "    # group by select feature & count # of active & non-active users\n",
    "    feat = balanced.groupby(by='active')[feature].value_counts().sort_index()\n",
    "    # get categories of select feature\n",
    "    categories = feat.loc[0].index\n",
    "    # use bar_config function to get x-tick & bar locations\n",
    "    x_tick, left_bar, right_bar = bar_config(width, categories)\n",
    "    \n",
    "    # plot left bar (Non-active Users)\n",
    "    plt.bar(left_bar, feat.loc[0], width, label='Not Active')\n",
    "    # plot right bar (Active Users)\n",
    "    plt.bar(right_bar, feat.loc[1], width, label='Active')\n",
    "    # set x-tick locations\n",
    "    plt.xticks(x_tick, categories)\n",
    "    # plot title\n",
    "    plt.title('Active vs. Non-active Users (Grouped by ' + feature.capitalize() + ')')\n",
    "    # x-axis label\n",
    "    plt.xlabel(feature.capitalize())\n",
    "    # y-axis label\n",
    "    plt.ylabel('# Users')\n",
    "    # set legend\n",
    "    plt.legend()\n",
    "    \n",
    "    # show plot\n",
    "    plt.tight_layout()\n",
    "    plt.show()"
   ]
  },
  {
   "cell_type": "markdown",
   "metadata": {},
   "source": [
    "#### *Grouped by City*"
   ]
  },
  {
   "cell_type": "code",
   "execution_count": 11,
   "metadata": {},
   "outputs": [
    {
     "data": {
      "image/png": "[encoded data removed]",
      "text/plain": [
       "<Figure size 432x288 with 1 Axes>"
      ]
     },
     "metadata": {
      "needs_background": "light"
     },
     "output_type": "display_data"
    }
   ],
   "source": [
    "# users grouped by city\n",
    "bar_active_feature('city', 0.35)"
   ]
  },
  {
   "cell_type": "markdown",
   "metadata": {},
   "source": [
    "> **Active Users by City:**\n",
    "> From the bar plot above, we can confirm the results obtained from the feature correlation values; when looking at the cities individually, the city of Astapor contains almost twice as many non-active users as active ones. Further, this disparity between the type of user is even more pronounced when looking at users from the city of King's Landing; in King's Landing, there are more than twice active users than there are non-active. Therefore, supplying the city feature to our predictive model will prove useful when predicting whether a user will be active or non-active.\n",
    "\n",
    "#### *Grouped by Phone Type*"
   ]
  },
  {
   "cell_type": "code",
   "execution_count": 12,
   "metadata": {},
   "outputs": [
    {
     "data": {
      "image/png": "[encoded data removed]",
      "text/plain": [
       "<Figure size 432x288 with 1 Axes>"
      ]
     },
     "metadata": {
      "needs_background": "light"
     },
     "output_type": "display_data"
    }
   ],
   "source": [
    "# users grouped by phone type\n",
    "bar_active_feature('phone', 0.25)"
   ]
  },
  {
   "cell_type": "markdown",
   "metadata": {},
   "source": [
    "> **Active Users by Phone Type:**\n",
    "> The relationship between phone type and whether or not a user will be active can be seen on the plot above; if a user uses an Android phone, they are more likely to be a non-active user than an active one, but if a user utilizes an iPhone, they are more likely to be an active user than a non-active.\n",
    "\n",
    "#### *Grouped by Ultimate Black User (Binary)*"
   ]
  },
  {
   "cell_type": "code",
   "execution_count": 13,
   "metadata": {},
   "outputs": [
    {
     "data": {
      "image/png": "[encoded data removed]",
      "text/plain": [
       "<Figure size 432x288 with 1 Axes>"
      ]
     },
     "metadata": {
      "needs_background": "light"
     },
     "output_type": "display_data"
    }
   ],
   "source": [
    "# users grouped by whether they are an ultimate black user\n",
    "bar_active_feature('ultimate_black_user', 0.25)"
   ]
  },
  {
   "cell_type": "markdown",
   "metadata": {},
   "source": [
    "> **Active Users by Ultimate Black User:**\n",
    "> Finally, whether a user is an ultimate black user also has potential in helping our predictive model predict whether or not a user will be active; if a user is an ultimate black user, they are more likely to be an active user. On the other hand, if a user is not an ultimate black user, then there is also a higher possibility that they will not be an active user. \n",
    "\n",
    "### Feature Importances\n",
    "Above, we statistically measured feature correlations using the Pearson correlation. However, below we can use a predictive model known as the Extremly Randomized Trees classifier, or ExtraTrees classifier, to get the features' importances; feature importances deduced from this classifier tell us what features help the classifier get as much information as possible and keep computation to a minimum. The closer to +1 a feature's importance is, the more helpful that feature is. "
   ]
  },
  {
   "cell_type": "code",
   "execution_count": 14,
   "metadata": {
    "scrolled": true
   },
   "outputs": [
    {
     "name": "stdout",
     "output_type": "stream",
     "text": [
      "Feature Importances:\n",
      "\n",
      "avg_dist                  0.184287\n",
      "weekday_pct               0.138986\n",
      "signup_day                0.130673\n",
      "avg_rating_by_driver      0.097322\n",
      "avg_rating_of_driver      0.089136\n",
      "trips_in_first_30_days    0.082025\n",
      "surge_pct                 0.081454\n",
      "city_King's Landing       0.057215\n",
      "avg_surge                 0.047478\n",
      "ultimate_black_user       0.040260\n",
      "phone_iPhone              0.039978\n",
      "city_Winterfell           0.011185\n"
     ]
    }
   ],
   "source": [
    "# import sklearn's ensemble library\n",
    "import sklearn.ensemble as ensemble\n",
    "\n",
    "# create new ultimate dataset w/ dummy categorical variables\n",
    "ult_dummy = pd.get_dummies(ultimate, columns=['city', 'phone'], drop_first=True).drop(columns='active')\n",
    "\n",
    "# instantiate ExtraTrees Classifier\n",
    "ET_model = ensemble.ExtraTreesClassifier()\n",
    "# fit classifier\n",
    "ET_model.fit(ult_dummy, active)\n",
    "\n",
    "# get classifier feature importances\n",
    "feat_imp = pd.Series(ET_model.feature_importances_, index=ult_dummy.columns).sort_values(ascending=False)\n",
    "\n",
    "# display feature importances\n",
    "print('Feature Importances:\\n\\n{}'.format(feat_imp.to_string()))"
   ]
  },
  {
   "cell_type": "markdown",
   "metadata": {},
   "source": [
    "> **Feature Importances:**\n",
    "> From above, we can see that ExtraTrees classified the average distance traveled by a user as one of the most important features used to predict whether or not a user would be active; since the average distance's importance outweighed all other features' importances, we will look into it below.\n",
    "\n",
    "#### *Average Distance & Correlations*\n",
    "Here we will analyze what makes a person want to travel longer distances on average. "
   ]
  },
  {
   "cell_type": "code",
   "execution_count": 15,
   "metadata": {},
   "outputs": [
    {
     "name": "stdout",
     "output_type": "stream",
     "text": [
      "Average Distance Statistics:\n"
     ]
    },
    {
     "data": {
      "text/html": [
       "<div>\n",
       "<style scoped>\n",
       "    .dataframe tbody tr th:only-of-type {\n",
       "        vertical-align: middle;\n",
       "    }\n",
       "\n",
       "    .dataframe tbody tr th {\n",
       "        vertical-align: top;\n",
       "    }\n",
       "\n",
       "    .dataframe thead th {\n",
       "        text-align: right;\n",
       "    }\n",
       "</style>\n",
       "<table border=\"1\" class=\"dataframe\">\n",
       "  <thead>\n",
       "    <tr style=\"text-align: right;\">\n",
       "      <th></th>\n",
       "      <th>Active</th>\n",
       "      <th>Not_Active</th>\n",
       "    </tr>\n",
       "    <tr>\n",
       "      <th>Statistic</th>\n",
       "      <th></th>\n",
       "      <th></th>\n",
       "    </tr>\n",
       "  </thead>\n",
       "  <tbody>\n",
       "    <tr>\n",
       "      <td>mean</td>\n",
       "      <td>4.93</td>\n",
       "      <td>5.81</td>\n",
       "    </tr>\n",
       "    <tr>\n",
       "      <td>min</td>\n",
       "      <td>0.00</td>\n",
       "      <td>0.00</td>\n",
       "    </tr>\n",
       "    <tr>\n",
       "      <td>25%</td>\n",
       "      <td>2.57</td>\n",
       "      <td>2.31</td>\n",
       "    </tr>\n",
       "    <tr>\n",
       "      <td>50%</td>\n",
       "      <td>3.69</td>\n",
       "      <td>3.87</td>\n",
       "    </tr>\n",
       "    <tr>\n",
       "      <td>75%</td>\n",
       "      <td>5.68</td>\n",
       "      <td>7.20</td>\n",
       "    </tr>\n",
       "    <tr>\n",
       "      <td>max</td>\n",
       "      <td>79.34</td>\n",
       "      <td>79.69</td>\n",
       "    </tr>\n",
       "  </tbody>\n",
       "</table>\n",
       "</div>"
      ],
      "text/plain": [
       "           Active  Not_Active\n",
       "Statistic                    \n",
       "mean         4.93        5.81\n",
       "min          0.00        0.00\n",
       "25%          2.57        2.31\n",
       "50%          3.69        3.87\n",
       "75%          5.68        7.20\n",
       "max         79.34       79.69"
      ]
     },
     "metadata": {},
     "output_type": "display_data"
    }
   ],
   "source": [
    "# get unprocessed distance values\n",
    "raw_dist = raw_ultimate.avg_dist\n",
    "\n",
    "# active users' avg distances\n",
    "act_dist = raw_dist[active]\n",
    "# non-active users' avg distances\n",
    "nact_dist = raw_dist[~active]\n",
    "\n",
    "# get user avg distance statistics & create dataframe\n",
    "dist_stats = pd.concat([act_dist, nact_dist], axis=1).describe().rename_axis('Statistic').round(2)\n",
    "# rename columns\n",
    "dist_stats.columns = ['Active', 'Not_Active']\n",
    "\n",
    "# display important avg_dist statistics\n",
    "print('Average Distance Statistics:')\n",
    "display(dist_stats.iloc[[1,3,4,5,6,7]])"
   ]
  },
  {
   "cell_type": "markdown",
   "metadata": {},
   "source": [
    "> **Average Distance Statistics:**\n",
    "> Surprisingly, active and non-active users have similar average distance statistics; however, the mean average distance is significantly less for an active user than it is for a non-active user. This can lead us to conclude that the longer users need to travel the less they will use Ultimate's taxi service; since longer drives cost more for the user, it makes sense for users that constantly travel long distances to want to avoid the need of using the ride sharing service in order to save money."
   ]
  },
  {
   "cell_type": "code",
   "execution_count": 16,
   "metadata": {},
   "outputs": [
    {
     "name": "stdout",
     "output_type": "stream",
     "text": [
      "Average Distance Correlations:\n",
      "\n",
      "avg_rating_by_driver      0.078683\n",
      "weekday_pct               0.047616\n",
      "ultimate_black_user       0.039383\n",
      "avg_rating_of_driver      0.024722\n",
      "phone_Android             0.023232\n",
      "city_Winterfell           0.021789\n",
      "city_King's Landing       0.018131\n",
      "signup_day                0.011840\n",
      "phone_iPhone             -0.023232\n",
      "city_Astapor             -0.038979\n",
      "active                   -0.040326\n",
      "avg_surge                -0.048299\n",
      "trips_in_first_30_days   -0.128537\n",
      "surge_pct                -0.136730\n"
     ]
    }
   ],
   "source": [
    "# get avg_dist correlations\n",
    "dist_corr = ult_corr.avg_dist.sort_values(ascending=False)[1:].to_string()\n",
    "\n",
    "# display correlations\n",
    "print('Average Distance Correlations:\\n\\n{}'.format(dist_corr))"
   ]
  },
  {
   "cell_type": "markdown",
   "metadata": {},
   "source": [
    "> **Average Distance Correlations:**\n",
    "> Now, when it comes to understanding what makes a user have a higher average distance we can perform Pearson's correlation again; it can be noted that the strongest correlations to the average distance of a user are the number of trips in the first 30 days of signing up and the surge percentage. Both of these correlations are negative correlations which makes sense, because the more trips you make the costlier it is to pay for said trips, especially if they are all long distances; therefore, the more a user uses Ultimate's taxi service, the less likely they will be traveling long distances. Further, the higher the surge percentage, the less likely a user will be taking long distances; since higher surge percentages mean the rider gets charged more per trip, it also makes sense for a user with a high number of trips with high surges to decrease their average distance traveled. \n",
    "\n",
    "***\n",
    "# 2. Predictive Modeling"
   ]
  },
  {
   "cell_type": "code",
   "execution_count": 17,
   "metadata": {},
   "outputs": [],
   "source": [
    "# import classifiers\n",
    "from sklearn.linear_model import LogisticRegression\n",
    "from sklearn.naive_bayes import ComplementNB\n",
    "from sklearn.svm import SVC\n",
    "import sklearn.metrics as metric\n",
    "\n",
    "# import additional libraries\n",
    "import sklearn.model_selection as mod_sel\n",
    "import sklearn.decomposition as decomp"
   ]
  },
  {
   "cell_type": "markdown",
   "metadata": {},
   "source": [
    "## 2.1. Principal Component Analysis\n",
    "Principal Component Analysis, or PCA, helps capture the dataset's variance into components which can be used to transform the original dataset; PCA is used to reduce the number of dimensions the predictive model has to learn by allowing the user to keep the most relevant data, i.e. components. Below we will fit our dataset to an PCA instance and observe the optimum number of components to keep. "
   ]
  },
  {
   "cell_type": "code",
   "execution_count": 18,
   "metadata": {},
   "outputs": [
    {
     "data": {
      "image/png": "[encoded data removed]",
      "text/plain": [
       "<Figure size 432x288 with 1 Axes>"
      ]
     },
     "metadata": {
      "needs_background": "light"
     },
     "output_type": "display_data"
    },
    {
     "name": "stdout",
     "output_type": "stream",
     "text": [
      "Cumulative Explained Variance by Top 4 Components: 0.78\n"
     ]
    }
   ],
   "source": [
    "# fit PCA to processed ultimate dataset\n",
    "pca = decomp.PCA().fit(ult_dummy)\n",
    "\n",
    "# individual component explained variance ratio\n",
    "exp_var = pca.explained_variance_ratio_\n",
    "\n",
    "# cumulative explained variance ratio\n",
    "cum_exp_var = np.cumsum(exp_var)\n",
    "\n",
    "# best # of components (using elbow method)\n",
    "n_pca = 4\n",
    "\n",
    "# plot explained variance ratio vs. components \n",
    "plt.plot(range(1, len(exp_var)+1), exp_var)\n",
    "# plot a point marking PCA component cutoff\n",
    "plt.scatter(n_pca, exp_var[n_pca-1])\n",
    "# plot title\n",
    "plt.title('PCA Explaned Variance Ratio')\n",
    "# plot x-axis label\n",
    "plt.xlabel('Component')\n",
    "# plot y-axis label\n",
    "plt.ylabel('Explained Variance Ratio')\n",
    "# show plot \n",
    "plt.show()\n",
    "\n",
    "# show cumulative explained variance (best # of components)\n",
    "print('Cumulative Explained Variance by Top {} Components: {:.2f}'.format(n_pca, cum_exp_var[n_pca-1]))"
   ]
  },
  {
   "cell_type": "markdown",
   "metadata": {},
   "source": [
    ">**PCA Optimal # of Components:**\n",
    "> Applying the elbow method to the graph of explained variance ratio vs. components, we can see that after the 4th component the variance gained from any additional components becomes minimal; we can confidently reduce our data's dimensionality to four components by discarding components past the fourth component, because the noise they contain will harm the predictive model more than their remaining variance might help. However, from those top 4 components more than three-fourths of the data's variance can be explained. Below we will transform Ultimate's dataset using the top 4 components; after the transformation, the dataset will be ready to be passed to the predictive models."
   ]
  },
  {
   "cell_type": "code",
   "execution_count": 19,
   "metadata": {},
   "outputs": [
    {
     "name": "stdout",
     "output_type": "stream",
     "text": [
      "Ultimate Dataset w/ 4 Principal Components:\n"
     ]
    },
    {
     "data": {
      "text/html": [
       "<div>\n",
       "<style scoped>\n",
       "    .dataframe tbody tr th:only-of-type {\n",
       "        vertical-align: middle;\n",
       "    }\n",
       "\n",
       "    .dataframe tbody tr th {\n",
       "        vertical-align: top;\n",
       "    }\n",
       "\n",
       "    .dataframe thead th {\n",
       "        text-align: right;\n",
       "    }\n",
       "</style>\n",
       "<table border=\"1\" class=\"dataframe\">\n",
       "  <thead>\n",
       "    <tr style=\"text-align: right;\">\n",
       "      <th></th>\n",
       "      <th>comp_1</th>\n",
       "      <th>comp_2</th>\n",
       "      <th>comp_3</th>\n",
       "      <th>comp_4</th>\n",
       "    </tr>\n",
       "  </thead>\n",
       "  <tbody>\n",
       "    <tr>\n",
       "      <td>0</td>\n",
       "      <td>1.639305</td>\n",
       "      <td>2.976415</td>\n",
       "      <td>2.681473</td>\n",
       "      <td>2.465075</td>\n",
       "    </tr>\n",
       "    <tr>\n",
       "      <td>1</td>\n",
       "      <td>1.756076</td>\n",
       "      <td>3.121494</td>\n",
       "      <td>0.631681</td>\n",
       "      <td>1.919086</td>\n",
       "    </tr>\n",
       "    <tr>\n",
       "      <td>2</td>\n",
       "      <td>0.947345</td>\n",
       "      <td>1.009095</td>\n",
       "      <td>2.617748</td>\n",
       "      <td>2.321175</td>\n",
       "    </tr>\n",
       "    <tr>\n",
       "      <td>3</td>\n",
       "      <td>1.040774</td>\n",
       "      <td>1.574487</td>\n",
       "      <td>3.580024</td>\n",
       "      <td>2.538046</td>\n",
       "    </tr>\n",
       "    <tr>\n",
       "      <td>4</td>\n",
       "      <td>1.007254</td>\n",
       "      <td>3.240931</td>\n",
       "      <td>3.544378</td>\n",
       "      <td>1.660314</td>\n",
       "    </tr>\n",
       "    <tr>\n",
       "      <td>...</td>\n",
       "      <td>...</td>\n",
       "      <td>...</td>\n",
       "      <td>...</td>\n",
       "      <td>...</td>\n",
       "    </tr>\n",
       "    <tr>\n",
       "      <td>41440</td>\n",
       "      <td>1.501355</td>\n",
       "      <td>0.739515</td>\n",
       "      <td>2.771049</td>\n",
       "      <td>2.364040</td>\n",
       "    </tr>\n",
       "    <tr>\n",
       "      <td>41441</td>\n",
       "      <td>2.400222</td>\n",
       "      <td>0.687619</td>\n",
       "      <td>2.406319</td>\n",
       "      <td>3.291191</td>\n",
       "    </tr>\n",
       "    <tr>\n",
       "      <td>41442</td>\n",
       "      <td>1.057864</td>\n",
       "      <td>2.734483</td>\n",
       "      <td>0.750906</td>\n",
       "      <td>2.352214</td>\n",
       "    </tr>\n",
       "    <tr>\n",
       "      <td>41443</td>\n",
       "      <td>1.062600</td>\n",
       "      <td>3.281718</td>\n",
       "      <td>0.830702</td>\n",
       "      <td>1.822824</td>\n",
       "    </tr>\n",
       "    <tr>\n",
       "      <td>41444</td>\n",
       "      <td>0.956587</td>\n",
       "      <td>1.755056</td>\n",
       "      <td>1.939650</td>\n",
       "      <td>1.870639</td>\n",
       "    </tr>\n",
       "  </tbody>\n",
       "</table>\n",
       "<p>41445 rows × 4 columns</p>\n",
       "</div>"
      ],
      "text/plain": [
       "         comp_1    comp_2    comp_3    comp_4\n",
       "0      1.639305  2.976415  2.681473  2.465075\n",
       "1      1.756076  3.121494  0.631681  1.919086\n",
       "2      0.947345  1.009095  2.617748  2.321175\n",
       "3      1.040774  1.574487  3.580024  2.538046\n",
       "4      1.007254  3.240931  3.544378  1.660314\n",
       "...         ...       ...       ...       ...\n",
       "41440  1.501355  0.739515  2.771049  2.364040\n",
       "41441  2.400222  0.687619  2.406319  3.291191\n",
       "41442  1.057864  2.734483  0.750906  2.352214\n",
       "41443  1.062600  3.281718  0.830702  1.822824\n",
       "41444  0.956587  1.755056  1.939650  1.870639\n",
       "\n",
       "[41445 rows x 4 columns]"
      ]
     },
     "metadata": {},
     "output_type": "display_data"
    }
   ],
   "source": [
    "# use fitted PCA to transform processed ultimate dataset\n",
    "ult_pca = pd.DataFrame(pca.transform(ult_dummy)[:, :n_pca])\n",
    "\n",
    "# for every component\n",
    "for c in range(n_pca):\n",
    "    # rename dataframe columns\n",
    "    ult_pca.rename(columns={c:'comp_' + str(c+1)}, inplace=True)\n",
    "    \n",
    "# Naive Bayes Classifier only takes positive inputs (scale all inputs by +2)\n",
    "ult_pca = ult_pca + 2\n",
    "\n",
    "# show final dataset w/ 4 Principal Components\n",
    "print('Ultimate Dataset w/ 4 Principal Components:')\n",
    "display(ult_pca)"
   ]
  },
  {
   "cell_type": "markdown",
   "metadata": {},
   "source": [
    "## 2.2. Model Evaluation\n",
    "In order to decide upon a predictive algorithm, we will test various commonly used classifiers. \n",
    "### Grid Search Cross-Validation\n",
    "Using grid search cross-validation, we can pass multiple parameters for a single classifier and obtain the best performing parameters; below we will create and run grid search cv on multiple classifiers. We will use the matthews correlation coefficient, since it provides a balanced idea of how well classifiers perform on binary targets, i.e. active and non-active users; the matthews correlation coefficient takes into account false positives and negatives, so it further proves to be the right choice given our imbalanced dataset. "
   ]
  },
  {
   "cell_type": "code",
   "execution_count": 20,
   "metadata": {},
   "outputs": [],
   "source": [
    "# create GridSearchCV instance\n",
    "GSCV = mod_sel.GridSearchCV\n",
    "# create scoring function (matthews correlation coefficient)\n",
    "mcc_score = metric.make_scorer(metric.matthews_corrcoef)\n",
    "\n",
    "# split dataset into training and testing datasets\n",
    "train_x, test_x, train_y, test_y = mod_sel.train_test_split(ult_pca, active)"
   ]
  },
  {
   "cell_type": "markdown",
   "metadata": {},
   "source": [
    "### Classifiers\n",
    "Below we will create and define the classifiers as well as their corresponding parameters to be passed to the grid search cross-validator; we will test some of the most commonly used classifiers. \n",
    "#### *Forest Classifiers*"
   ]
  },
  {
   "cell_type": "code",
   "execution_count": 21,
   "metadata": {},
   "outputs": [],
   "source": [
    "# instantiate Random Forest Classifier\n",
    "RF = ensemble.RandomForestClassifier()\n",
    "\n",
    "# instantiate Extremely Randomized Trees Classifier\n",
    "ET = ensemble.ExtraTreesClassifier()\n",
    "\n",
    "# define forest parameters\n",
    "forest_param = {'n_estimators':[100],\n",
    "                 'bootstrap':[True, False], \n",
    "                 'class_weight':['balanced', 'balanced_subsample']}"
   ]
  },
  {
   "cell_type": "markdown",
   "metadata": {},
   "source": [
    "#### *Naive Bayes Classifier*"
   ]
  },
  {
   "cell_type": "code",
   "execution_count": 22,
   "metadata": {},
   "outputs": [],
   "source": [
    "# instantiate Complement Naive Bayes Classifier\n",
    "NB = ComplementNB()\n",
    "\n",
    "# define NB parameters\n",
    "NB_param = {'alpha':[0., 0.1, 1.], 'norm':[True, False]}"
   ]
  },
  {
   "cell_type": "markdown",
   "metadata": {},
   "source": [
    "#### *Support Vector Classifier*"
   ]
  },
  {
   "cell_type": "code",
   "execution_count": 23,
   "metadata": {},
   "outputs": [],
   "source": [
    "# instantiate Support Vector Classifier\n",
    "SVM = SVC(class_weight='balanced')\n",
    "\n",
    "# define SVC parameters\n",
    "SVM_param = {'C':[0.01, 0.1, 1.], 'kernel':['poly', 'rbf'], 'gamma':['auto', 'scale']}"
   ]
  },
  {
   "cell_type": "markdown",
   "metadata": {},
   "source": [
    "#### *Logistic Regression Classifier*"
   ]
  },
  {
   "cell_type": "code",
   "execution_count": 24,
   "metadata": {},
   "outputs": [],
   "source": [
    "# instantiate logistic regression classifier\n",
    "LR = LogisticRegression(class_weight='balanced')\n",
    "\n",
    "# define logistic regression parameters\n",
    "LR_param = {'C':[0.01, 0.1, 1.], 'solver':['lbfgs', 'liblinear']}"
   ]
  },
  {
   "cell_type": "markdown",
   "metadata": {},
   "source": [
    "### Run GridSearchCV\n",
    "Once the cross-validator and classifiers have been initialized, we can feed the classifiers with their corresponding parameters to GridSearchCV. We will receive the best score achieved by each classifier; the parameters used in achieving this score will also be shown. "
   ]
  },
  {
   "cell_type": "code",
   "execution_count": 25,
   "metadata": {},
   "outputs": [
    {
     "name": "stdout",
     "output_type": "stream",
     "text": [
      "-------------\n",
      "RF Estimator\n",
      " Score: 0.35\n",
      "\n",
      "Best Estimator: RandomForestClassifier(bootstrap=True, class_weight='balanced_subsample',\n",
      "                       criterion='gini', max_depth=None, max_features='auto',\n",
      "                       max_leaf_nodes=None, min_impurity_decrease=0.0,\n",
      "                       min_impurity_split=None, min_samples_leaf=1,\n",
      "                       min_samples_split=2, min_weight_fraction_leaf=0.0,\n",
      "                       n_estimators=100, n_jobs=None, oob_score=False,\n",
      "                       random_state=None, verbose=0, warm_start=False)\n",
      "\n",
      "-------------\n",
      "ET Estimator\n",
      " Score: 0.34\n",
      "\n",
      "Best Estimator: ExtraTreesClassifier(bootstrap=True, class_weight='balanced_subsample',\n",
      "                     criterion='gini', max_depth=None, max_features='auto',\n",
      "                     max_leaf_nodes=None, min_impurity_decrease=0.0,\n",
      "                     min_impurity_split=None, min_samples_leaf=1,\n",
      "                     min_samples_split=2, min_weight_fraction_leaf=0.0,\n",
      "                     n_estimators=100, n_jobs=None, oob_score=False,\n",
      "                     random_state=None, verbose=0, warm_start=False)\n",
      "\n",
      "-------------\n",
      "NB Estimator\n",
      " Score: 0.12\n",
      "\n",
      "Best Estimator: ComplementNB(alpha=0.0, class_prior=None, fit_prior=True, norm=True)\n",
      "\n",
      "-------------\n",
      "SVM Estimator\n",
      " Score: 0.32\n",
      "\n",
      "Best Estimator: SVC(C=1.0, cache_size=200, class_weight='balanced', coef0=0.0,\n",
      "    decision_function_shape='ovr', degree=3, gamma='scale', kernel='rbf',\n",
      "    max_iter=-1, probability=False, random_state=None, shrinking=True,\n",
      "    tol=0.001, verbose=False)\n",
      "\n",
      "-------------\n",
      "LR Estimator\n",
      " Score: 0.19\n",
      "\n",
      "Best Estimator: LogisticRegression(C=1.0, class_weight='balanced', dual=False,\n",
      "                   fit_intercept=True, intercept_scaling=1, l1_ratio=None,\n",
      "                   max_iter=100, multi_class='warn', n_jobs=None, penalty='l2',\n",
      "                   random_state=None, solver='lbfgs', tol=0.0001, verbose=0,\n",
      "                   warm_start=False)\n",
      "\n"
     ]
    }
   ],
   "source": [
    "# estimators\n",
    "estimators = {'RF':RF, \n",
    "              'ET':ET, \n",
    "              'NB':NB, \n",
    "              'SVM':SVM, \n",
    "              'LR':LR}\n",
    "# parameters\n",
    "est_params = {'RF':forest_param, \n",
    "              'ET':forest_param, \n",
    "              'NB':NB_param, \n",
    "              'SVM':SVM_param, \n",
    "              'LR':LR_param}\n",
    "\n",
    "# run GridSearchCV\n",
    "for estimator in estimators:\n",
    "    # feed estimator w/ corresponding parameters to GridSearchCV\n",
    "    grid = GSCV(estimator=estimators[estimator], param_grid=est_params[estimator], scoring=mcc_score, n_jobs=-1)\n",
    "    # fit to training data\n",
    "    grid.fit(train_x, train_y)\n",
    "    # score classifier w/ testing data\n",
    "    test_score = grid.score(test_x, test_y)\n",
    "    # print best scoring parameters for each estimator\n",
    "    print('-------------\\n{} Estimator\\n Score: {:.2f}\\n\\nBest Estimator: {}\\n'.format(estimator,\n",
    "                                                                                       test_score, \n",
    "                                                                                       grid.best_estimator_))"
   ]
  },
  {
   "cell_type": "markdown",
   "metadata": {},
   "source": [
    "> **Model Evaluation:**\n",
    "> As it can be seen, Random Forest obtained the best score out of all the classifiers; therefore, in the next step we are going to further optimize the Random Forest classifier in an attempt to improve its performance. \n",
    "\n",
    "## 2.3. Best Model\n",
    "### Fine Tuning\n",
    "Below, we will run grid search cross-validation again but this time only on the Random Forest classifier; however, this time we are going to fine tune the model by passing more detailed parameters, or hyperparameters, to the cross-validator. "
   ]
  },
  {
   "cell_type": "code",
   "execution_count": 26,
   "metadata": {},
   "outputs": [
    {
     "name": "stdout",
     "output_type": "stream",
     "text": [
      "Fitting 5 folds for each of 12 candidates, totalling 60 fits\n"
     ]
    },
    {
     "name": "stderr",
     "output_type": "stream",
     "text": [
      "[Parallel(n_jobs=-1)]: Using backend LokyBackend with 4 concurrent workers.\n",
      "[Parallel(n_jobs=-1)]: Done  33 tasks      | elapsed:  4.6min\n",
      "[Parallel(n_jobs=-1)]: Done  60 out of  60 | elapsed:  9.8min finished\n"
     ]
    },
    {
     "name": "stdout",
     "output_type": "stream",
     "text": [
      "Best Estimator Parameters:\n"
     ]
    },
    {
     "data": {
      "text/plain": [
       "{'criterion': 'entropy', 'min_samples_leaf': 10, 'n_estimators': 200}"
      ]
     },
     "metadata": {},
     "output_type": "display_data"
    }
   ],
   "source": [
    "# instantiate best performing estimator \n",
    "RF_final = ensemble.RandomForestClassifier(class_weight='balanced')\n",
    "\n",
    "# define fine tuning hyperparameters\n",
    "RF_params = {'n_estimators':[200, 500], \n",
    "             'criterion':['gini', 'entropy'],\n",
    "             'min_samples_leaf':[1, 10, 100]}\n",
    "\n",
    "# create GridSearchCV instance w/ all final estimator hyperparameters\n",
    "RF_grid = GSCV(estimator=RF_final, param_grid=RF_params, scoring=mcc_score, \n",
    "               iid=False, cv=5, verbose=2, n_jobs=-1)\n",
    "\n",
    "# fit final GridSearchCV to training data\n",
    "RF_grid.fit(train_x, train_y)\n",
    "\n",
    "# get best scoring hyperparameters\n",
    "RF_final = RF_grid.best_estimator_\n",
    "\n",
    "# show best scoring hyperparameters\n",
    "print('Best Estimator Parameters:')\n",
    "display(RF_grid.best_params_)"
   ]
  },
  {
   "cell_type": "markdown",
   "metadata": {},
   "source": [
    "> **Fine Tuning:**\n",
    "> After running the final Random Forest classifier through the grid search cross-validator, we arrived upon the best parameters for the classifier; the final parameters include using entropy as the criterion, 10 minimum samples per leaf and 200 estimators. Below we will explore the performance of the Random Forest classifier with the given parameters. "
   ]
  },
  {
   "cell_type": "markdown",
   "metadata": {},
   "source": [
    "### Best Model Performance"
   ]
  },
  {
   "cell_type": "code",
   "execution_count": 27,
   "metadata": {},
   "outputs": [
    {
     "name": "stdout",
     "output_type": "stream",
     "text": [
      "Final Model Score: 0.71\n"
     ]
    }
   ],
   "source": [
    "# get final model performance \n",
    "final_score = RF_final.score(test_x, test_y)\n",
    "print('Final Model Score: {:.2f}'.format(final_score))"
   ]
  },
  {
   "cell_type": "markdown",
   "metadata": {},
   "source": [
    "> **Final Model Performance:**\n",
    "> Using the best performing parameters, a final matthews correlation coefficient score of 0.71 was achieved by the classifier; since the score more than doubled, we can conclude the optimization process a success. This high performing predictive model is valid, because the final score was achieved on a testing dataset that the model had never seen before. Moreover, choosing the right scoring function is critical when measuring a model's performance, and since careful thought was put into choosing a scoring function that worked well with binary and imbalanced targets, the performance of the Random Forest classifier can be further concluded to be valid. "
   ]
  },
  {
   "cell_type": "markdown",
   "metadata": {},
   "source": [
    "# 3. Rider Retention\n",
    "Many recommendations can be made from the discoveries made by the exploring and modeling of the users' data. First, further probing has to be done to understand the reasons why certain cities have a disproportionate number of active vs. non-active users. The same process should be done in order to figure out why iPhone users seem to be more active than Android users; maybe the user interface on iPhones works a lot smoother than the Android UI. Second, find ways to encourage users in becoming ultimate black users, since ultimate black users were more likely to become active users. Finally, since it was observed that the longer the rides of a user the less likely they were to become active users, it can be concluded that price might factor into how much a user uses the service; therefore, promotions offering discounts to active users might be a good idea in order to encourage further rider activity. "
   ]
  }
 ],
 "metadata": {
  "kernelspec": {
   "display_name": "Python 3",
   "language": "python",
   "name": "python3"
  },
  "language_info": {
   "codemirror_mode": {
    "name": "ipython",
    "version": 3
   },
   "file_extension": ".py",
   "mimetype": "text/x-python",
   "name": "python",
   "nbconvert_exporter": "python",
   "pygments_lexer": "ipython3",
   "version": "3.7.3"
  }
 },
 "nbformat": 4,
 "nbformat_minor": 2
}
