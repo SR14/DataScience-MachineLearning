{
 "cells": [
  {
   "cell_type": "markdown",
   "metadata": {},
   "source": [
    "This exercise will require you to pull some data from the Qunadl API. Qaundl is currently the most widely used aggregator of financial market data."
   ]
  },
  {
   "cell_type": "markdown",
   "metadata": {},
   "source": [
    "As a first step, you will need to register a free account on the http://www.quandl.com website."
   ]
  },
  {
   "cell_type": "markdown",
   "metadata": {},
   "source": [
    "After you register, you will be provided with a unique API key, that you should store:"
   ]
  },
  {
   "cell_type": "code",
   "execution_count": 1,
   "metadata": {},
   "outputs": [],
   "source": [
    "# Store the API key as a string - according to PEP8, constants are always named in all upper case\n",
    "API_KEY = ''\n"
   ]
  },
  {
   "cell_type": "markdown",
   "metadata": {},
   "source": [
    "Qaundl has a large number of data sources, but, unfortunately, most of them require a Premium subscription. Still, there are also a good number of free datasets."
   ]
  },
  {
   "cell_type": "markdown",
   "metadata": {},
   "source": [
    "For this mini project, we will focus on equities data from the Frankfurt Stock Exhange (FSE), which is available for free. We'll try and analyze the stock prices of a company called Carl Zeiss Meditec, which manufactures tools for eye examinations, as well as medical lasers for laser eye surgery: https://www.zeiss.com/meditec/int/home.html. The company is listed under the stock ticker AFX_X."
   ]
  },
  {
   "cell_type": "markdown",
   "metadata": {},
   "source": [
    "You can find the detailed Quandl API instructions here: https://docs.quandl.com/docs/time-series"
   ]
  },
  {
   "cell_type": "markdown",
   "metadata": {},
   "source": [
    "While there is a dedicated Python package for connecting to the Quandl API, we would prefer that you use the *requests* package, which can be easily downloaded using *pip* or *conda*. You can find the documentation for the package here: http://docs.python-requests.org/en/master/ "
   ]
  },
  {
   "cell_type": "markdown",
   "metadata": {},
   "source": [
    "Finally, apart from the *requests* package, you are encouraged to not use any third party Python packages, such as *pandas*, and instead focus on what's available in the Python Standard Library (the *collections* module might come in handy: https://pymotw.com/3/collections/ ).\n",
    "Also, since you won't have access to DataFrames, you are encouraged to us Python's native data structures - preferably dictionaries, though some questions can also be answered using lists.\n",
    "You can read more on these data structures here: https://docs.python.org/3/tutorial/datastructures.html"
   ]
  },
  {
   "cell_type": "markdown",
   "metadata": {},
   "source": [
    "Keep in mind that the JSON responses you will be getting from the API map almost one-to-one to Python's dictionaries. Unfortunately, they can be very nested, so make sure you read up on indexing dictionaries in the documentation provided above."
   ]
  },
  {
   "cell_type": "code",
   "execution_count": 185,
   "metadata": {},
   "outputs": [],
   "source": [
    "# First, import the relevant modules\n",
    "import requests as req\n",
    "import collections as coll\n",
    "import statistics as stat"
   ]
  },
  {
   "cell_type": "code",
   "execution_count": 216,
   "metadata": {},
   "outputs": [],
   "source": [
    "# Now, call the Quandl API and pull out a small sample of the data (only one day) to get a glimpse\n",
    "# into the JSON structure that will be returned\n",
    "url_api = ('https://www.quandl.com/api/v3/datasets/FSE/AFX_X/data.json?api_key=' + API_KEY)\n",
    "r = req.get(url_api + '&start_date=2019-04-24&end_date=2019-04-24')\n",
    "carl = r.json()\n"
   ]
  },
  {
   "cell_type": "code",
   "execution_count": 217,
   "metadata": {},
   "outputs": [
    {
     "name": "stdout",
     "output_type": "stream",
     "text": [
      "{'dataset_data': {'limit': None, 'transform': None, 'column_index': None, 'column_names': ['Date', 'Open', 'High', 'Low', 'Close', 'Change', 'Traded Volume', 'Turnover', 'Last Price of the Day', 'Daily Traded Units', 'Daily Turnover'], 'start_date': '2019-04-24', 'end_date': '2019-04-24', 'frequency': 'daily', 'data': [['2019-04-24', None, 84.4, 83.0, 83.5, None, 220545.0, 18418288.0, None, None, None]], 'collapse': None, 'order': None}}\n"
     ]
    }
   ],
   "source": [
    "# Inspect the JSON structure of the object you created, and take note of how nested it is,\n",
    "# as well as the overall structure\n",
    "print(carl)"
   ]
  },
  {
   "cell_type": "markdown",
   "metadata": {},
   "source": [
    "These are your tasks for this mini project:\n",
    "\n",
    "1. Collect data from the Franfurt Stock Exchange, for the ticker AFX_X, for the whole year 2017 (keep in mind that the date format is YYYY-MM-DD).\n",
    "2. Convert the returned JSON object into a Python dictionary.\n",
    "3. Calculate what the highest and lowest opening prices were for the stock in this period.\n",
    "4. What was the largest change in any one day (based on High and Low price)?\n",
    "5. What was the largest change between any two days (based on Closing Price)?\n",
    "6. What was the average daily trading volume during this year?\n",
    "7. (Optional) What was the median trading volume during this year. (Note: you may need to implement your own function for calculating the median.)"
   ]
  },
  {
   "cell_type": "markdown",
   "metadata": {},
   "source": [
    "### Create 2017 Stock Prices Dictionary"
   ]
  },
  {
   "cell_type": "code",
   "execution_count": 97,
   "metadata": {
    "scrolled": true
   },
   "outputs": [
    {
     "name": "stdout",
     "output_type": "stream",
     "text": [
      "Column Names: ['Date', 'Open', 'High', 'Low', 'Close', 'Change', 'Traded Volume', 'Turnover', 'Last Price of the Day', 'Daily Traded Units', 'Daily Turnover']\n",
      "\n",
      "Example Day: ['2017-12-29', 51.76, 51.94, 51.45, 51.76, None, 34640.0, 1792304.0, None, None, None]\n"
     ]
    }
   ],
   "source": [
    "# get 2017 data\n",
    "r = req.get(url_api + '&start_date=2017-01-01&end_date=2018-01-01')\n",
    "carl = r.json()\n",
    "print('Column Names: ' + str(carl['dataset_data']['column_names']) + '\\n')\n",
    "print('Example Day:', carl['dataset_data']['data'][0])"
   ]
  },
  {
   "cell_type": "code",
   "execution_count": 94,
   "metadata": {},
   "outputs": [],
   "source": [
    "# get column names and list of values to create dictionary\n",
    "columns = carl['dataset_data']['column_names']\n",
    "daily_values = carl['dataset_data']['data']"
   ]
  },
  {
   "cell_type": "code",
   "execution_count": 95,
   "metadata": {},
   "outputs": [],
   "source": [
    "# create dictionary using Collections library\n",
    "carl_dict = coll.OrderedDict()\n",
    "for day in daily_values:\n",
    "    carl_dict[day[0]] = dict(zip(columns[1:], day[1:]))        "
   ]
  },
  {
   "cell_type": "code",
   "execution_count": 119,
   "metadata": {},
   "outputs": [
    {
     "name": "stdout",
     "output_type": "stream",
     "text": [
      "carl_dict Sample:\n",
      "\n",
      " ('2017-12-29', {'Open': 51.76, 'High': 51.94, 'Low': 51.45, 'Close': 51.76, 'Change': None, 'Traded Volume': 34640.0, 'Turnover': 1792304.0, 'Last Price of the Day': None, 'Daily Traded Units': None, 'Daily Turnover': None})\n"
     ]
    }
   ],
   "source": [
    "print('carl_dict Sample:\\n\\n', next(iter(carl_dict.items())))"
   ]
  },
  {
   "cell_type": "markdown",
   "metadata": {},
   "source": [
    "#### Highest and Lowest Stock Prices"
   ]
  },
  {
   "cell_type": "code",
   "execution_count": 104,
   "metadata": {},
   "outputs": [
    {
     "name": "stdout",
     "output_type": "stream",
     "text": [
      "Highest: 2017-12-14 53.54\n",
      "Lowest:\t 2017-01-23 33.62\n"
     ]
    }
   ],
   "source": [
    "# Create a Dictionary for High and Low Values\n",
    "highs = coll.OrderedDict()\n",
    "lows = coll.OrderedDict()\n",
    "for date in carl_dict:\n",
    "    highs[date] = carl_dict[date]['High']\n",
    "    lows[date] = carl_dict[date]['Low']\n",
    "    \n",
    "# Get Highest and Lowest Stock Date Price\n",
    "# Highest\n",
    "highest = max(highs, key=highs.get)\n",
    "print('Highest:', highest, highs[maximum])\n",
    "# Lowest\n",
    "lowest = min(lows, key=lows.get)\n",
    "print('Lowest:\\t', lowest, lows[lowest])"
   ]
  },
  {
   "cell_type": "markdown",
   "metadata": {},
   "source": [
    "#### Largest Single Day Price Change (High - Low) "
   ]
  },
  {
   "cell_type": "code",
   "execution_count": 168,
   "metadata": {},
   "outputs": [
    {
     "name": "stdout",
     "output_type": "stream",
     "text": [
      "Biggest Change: 2017-05-11 2.8100000000000023\n"
     ]
    }
   ],
   "source": [
    "# create a change dictionary\n",
    "change = coll.OrderedDict()\n",
    "for date in carl_dict:\n",
    "    change[date] = (carl_dict[date]['High'] - carl_dict[date]['Low'])\n",
    "# Biggest Change\n",
    "largest = max(change, key=change.get)\n",
    "print('Largest High-Low Change:', largest, change[largest])"
   ]
  },
  {
   "cell_type": "markdown",
   "metadata": {},
   "source": [
    "#### Largest Two Day Closing Price Change"
   ]
  },
  {
   "cell_type": "code",
   "execution_count": 175,
   "metadata": {},
   "outputs": [
    {
     "name": "stdout",
     "output_type": "stream",
     "text": [
      "Dates Compared:  2017-08-09 : 2017-08-08 \n",
      "Difference:\t 2.559999999999995\n"
     ]
    }
   ],
   "source": [
    "# create a closing price dictionary\n",
    "closing = coll.OrderedDict()\n",
    "for date in carl_dict:\n",
    "    closing[date] = carl_dict[date]['Close']\n",
    "    \n",
    "# make copy to remove the first entry of closing\n",
    "# we will use this to later compare two consecutive dates\n",
    "no_dec29 = closing.copy()\n",
    "del no_dec29['2017-12-29']\n",
    "\n",
    "# create final two_day dict containing compared dates\n",
    "# and closing price difference \n",
    "two_day = coll.OrderedDict()\n",
    "for (date1, close1), (date2, close2) in zip(closing.items(), no_dec29.items()):\n",
    "    two_day[date1 + \" : \" + date2] = abs(close1 - close2)\n",
    "# print largest closing day price difference observed\n",
    "largest1 = max(two_day, key=two_day.get)\n",
    "print('Dates Compared: ', largest1, '\\nDifference:\\t',two_day[largest1])"
   ]
  },
  {
   "cell_type": "markdown",
   "metadata": {},
   "source": [
    "#### 2017 Average Daily Trading Volume "
   ]
  },
  {
   "cell_type": "code",
   "execution_count": 199,
   "metadata": {},
   "outputs": [
    {
     "name": "stdout",
     "output_type": "stream",
     "text": [
      "Average Daily Trading Volume:  89124.33725490196\n"
     ]
    }
   ],
   "source": [
    "# Create list of daily traded volumes\n",
    "trade = []\n",
    "for date in carl_dict:\n",
    "    trade.append(carl_dict[date]['Traded Volume'])\n",
    "# find average of daily traded volume list \n",
    "# print it\n",
    "print('Average Daily Trading Volume: ', sum(trade)/len(trade))"
   ]
  },
  {
   "cell_type": "markdown",
   "metadata": {},
   "source": [
    "#### 2017 Median Daily Trading Volume"
   ]
  },
  {
   "cell_type": "code",
   "execution_count": 213,
   "metadata": {},
   "outputs": [
    {
     "name": "stdout",
     "output_type": "stream",
     "text": [
      "Median Trading Volume:  76600.0\n"
     ]
    }
   ],
   "source": [
    "# Check Number of Days Recorded in 2017 Stock Price\n",
    "import math \n",
    "# since len(trade) = 255 is odd \n",
    "# we just pick the middle number of a sorted list\n",
    "print('Median Trading Volume: ', sorted(trade)[math.trunc(len(trade)/2)+1])"
   ]
  },
  {
   "cell_type": "code",
   "execution_count": null,
   "metadata": {},
   "outputs": [],
   "source": []
  },
  {
   "cell_type": "code",
   "execution_count": null,
   "metadata": {},
   "outputs": [],
   "source": []
  },
  {
   "cell_type": "code",
   "execution_count": null,
   "metadata": {},
   "outputs": [],
   "source": []
  },
  {
   "cell_type": "code",
   "execution_count": null,
   "metadata": {},
   "outputs": [],
   "source": []
  },
  {
   "cell_type": "code",
   "execution_count": null,
   "metadata": {},
   "outputs": [],
   "source": []
  }
 ],
 "metadata": {
  "kernelspec": {
   "display_name": "Python 3",
   "language": "python",
   "name": "python3"
  },
  "language_info": {
   "codemirror_mode": {
    "name": "ipython",
    "version": 3
   },
   "file_extension": ".py",
   "mimetype": "text/x-python",
   "name": "python",
   "nbconvert_exporter": "python",
   "pygments_lexer": "ipython3",
   "version": "3.6.8"
  }
 },
 "nbformat": 4,
 "nbformat_minor": 2
}
