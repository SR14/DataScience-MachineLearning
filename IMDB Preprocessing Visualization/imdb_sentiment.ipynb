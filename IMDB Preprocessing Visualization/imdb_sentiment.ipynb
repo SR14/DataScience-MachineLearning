{
 "cells": [
  {
   "cell_type": "markdown",
   "metadata": {},
   "source": [
    "# IMDB Review Sentiment Prediction"
   ]
  },
  {
   "cell_type": "markdown",
   "metadata": {},
   "source": [
    "This project consists of a total of 50,000 movie reviews labeled either positive or negative. The steps leading up to the training of the model include: data importation, pre-processing, exploration and visualization. Finally, I will define and train a Keras deep learning model architecture on 25,000 training documents. The DL model will attempt to predict whether a movie review is positive or negative from the text found in the review. The deep learning model created will be tested on the other unseen 25,000 labeled movie reviews, and we will record its performance. Data used in this project can be found [here](https://ai.stanford.edu/~amaas/data/sentiment/), courtesy of Stanford University."
   ]
  },
  {
   "cell_type": "code",
   "execution_count": 1,
   "metadata": {},
   "outputs": [
    {
     "name": "stderr",
     "output_type": "stream",
     "text": [
      "Using TensorFlow backend.\n"
     ]
    }
   ],
   "source": [
    "# import necessary libraries\n",
    "import operator\n",
    "import collections as coll\n",
    "from nltk.corpus import stopwords\n",
    "import pandas as pd\n",
    "import numpy as np\n",
    "import seaborn as sns\n",
    "import matplotlib.pyplot as plt\n",
    "import statistics as stat\n",
    "import math\n",
    "import os\n",
    "import re\n",
    "from keras.preprocessing.text import Tokenizer, one_hot"
   ]
  },
  {
   "cell_type": "code",
   "execution_count": 2,
   "metadata": {},
   "outputs": [],
   "source": [
    "# define function to retrive all data\n",
    "def get_reviews(data_path):\n",
    "    # initialize empty train/test reviews (text) and labels (positive/negative)\n",
    "    train_reviews = []\n",
    "    test_reviews = []\n",
    "    train_labels = []\n",
    "    test_labels = []\n",
    "    # loop both train/test folders\n",
    "    for dataset in ['train', 'test']:\n",
    "        # loop over positive and negative review folders\n",
    "        for feedback in ['pos', 'neg']:\n",
    "            # create path for folder currently in\n",
    "            reviews_folder = os.path.join(data_path, dataset, feedback)\n",
    "            # loop over each review one at a time\n",
    "            for review_file_name in sorted(os.listdir(reviews_folder)):\n",
    "                # import only text files containing corresponding review text\n",
    "                if review_file_name.endswith('.txt'):\n",
    "                    # create path to review file and open as review\n",
    "                    with open(os.path.join(reviews_folder, review_file_name)) as review:\n",
    "                        # append train review text and labels\n",
    "                        if dataset == 'train':\n",
    "                            # read into appropriate folder\n",
    "                            train_reviews.append(review.read())\n",
    "                            # append training labels positive, 1, negative, 0. \n",
    "                            if feedback == 'pos':\n",
    "                                train_labels.append(1)\n",
    "                            else:\n",
    "                                train_labels.append(0)  \n",
    "                        # append test set reviews and labels \n",
    "                        else:\n",
    "                            test_reviews.append(review.read())\n",
    "                            if feedback == 'pos':\n",
    "                                test_labels.append(1)  \n",
    "                            else:\n",
    "                                test_labels.append(0)\n",
    "                            \n",
    "                        \n",
    "                        \n",
    "    # turn lists into numpy arrays due to large sized data\n",
    "    # arrays more compact and efficient at handlind large amt of data\n",
    "    train_reviews = np.array(train_reviews)\n",
    "    test_revies = np.array(test_reviews)\n",
    "    train_labels = np.array(train_labels)\n",
    "    test_labels = np.array(test_labels)\n",
    "    \n",
    "    return train_reviews, test_reviews, train_labels, test_labels"
   ]
  },
  {
   "cell_type": "code",
   "execution_count": 3,
   "metadata": {},
   "outputs": [],
   "source": [
    "data_path = os.path.expanduser('~/Desktop/IMDB_Reviews/data')\n",
    "# import data\n",
    "train, test, train_label, test_label = get_reviews(data_path)"
   ]
  },
  {
   "cell_type": "code",
   "execution_count": 4,
   "metadata": {},
   "outputs": [
    {
     "name": "stdout",
     "output_type": "stream",
     "text": [
      "Train Set Length:\t 25000\n",
      "Test Set Length:\t 25000\n",
      "Train Label Length:\t 25000\n",
      "Test Label Length:\t 25000\n"
     ]
    }
   ],
   "source": [
    "# check lengths of train and test set\n",
    "print('Train Set Length:\\t', len(train))\n",
    "print('Test Set Length:\\t', len(test))\n",
    "print('Train Label Length:\\t', len(train_label))\n",
    "print('Test Label Length:\\t', len(test_label))"
   ]
  },
  {
   "cell_type": "code",
   "execution_count": 5,
   "metadata": {},
   "outputs": [
    {
     "name": "stdout",
     "output_type": "stream",
     "text": [
      "Possible Train Labels:\t [0 1]\n",
      "Possible Test Labels:\t [0 1]\n"
     ]
    }
   ],
   "source": [
    "# check train and test label possible values\n",
    "print('Possible Train Labels:\\t', np.unique(train_label))\n",
    "print('Possible Test Labels:\\t', np.unique(test_label))"
   ]
  },
  {
   "cell_type": "code",
   "execution_count": 6,
   "metadata": {},
   "outputs": [
    {
     "name": "stdout",
     "output_type": "stream",
     "text": [
      "Training Unique Words:\t 280617\n",
      "Testing Unique Words:\t 276678\n"
     ]
    }
   ],
   "source": [
    "# how many unique words in sets\n",
    "print('Training Unique Words:\\t', len(np.unique(' '.join(train).split())))\n",
    "print('Testing Unique Words:\\t', len(np.unique(' '.join(test).split())))"
   ]
  },
  {
   "cell_type": "code",
   "execution_count": 7,
   "metadata": {},
   "outputs": [
    {
     "name": "stdout",
     "output_type": "stream",
     "text": [
      "Average # Words in Training:\t 233\n",
      "Average # Words in Testing:\t 228\n"
     ]
    }
   ],
   "source": [
    "# average number of words per review\n",
    "train_words = []\n",
    "test_words = []\n",
    "for review in train:\n",
    "    train_words.append(len(review.split()))\n",
    "for review in test:\n",
    "    test_words.append(len(review.split()))\n",
    "print('Average # Words in Training:\\t', math.trunc(stat.mean(train_words)))\n",
    "print('Average # Words in Testing:\\t', math.trunc(stat.mean(test_words)))"
   ]
  },
  {
   "cell_type": "markdown",
   "metadata": {},
   "source": [
    "## Preprocess Data"
   ]
  },
  {
   "cell_type": "markdown",
   "metadata": {},
   "source": [
    "### *1. Remove Regular Expressions*"
   ]
  },
  {
   "cell_type": "code",
   "execution_count": 8,
   "metadata": {},
   "outputs": [
    {
     "name": "stdout",
     "output_type": "stream",
     "text": [
      "Example Review Before Regular Expressions Performed:\n",
      "\n",
      " Homelessness (or Houselessness as George Carlin stated) has been an issue for years but never a plan to help those on the street that were once considered human who did everything from going to school, work, or vote for the matter. Most people think of the homeless as just a lost cause while worrying about things such as racism, the war on Iraq, pressuring kids to succeed, technology, the elections, inflation, or worrying if they'll be next to end up on the streets.<br /><br />But what if you were given a bet to live on the streets for a month without the luxuries you once had from a home, the entertainment sets, a bathroom, pictures on the wall, a computer, and everything you once treasure to see what it's like to be homeless? That is Goddard Bolt's lesson.<br /><br />Mel Brooks (who directs) who stars as Bolt plays a rich man who has everything in the world until deciding to make a bet with a sissy rival (Jeffery Tambor) to see if he can live in the streets for thirty days without the luxuries; if Bolt succeeds, he can do what he wants with a future project of making more buildings. The bet's on where Bolt is thrown on the street with a bracelet on his leg to monitor his every move where he can't step off the sidewalk. He's given the nickname Pepto by a vagrant after it's written on his forehead where Bolt meets other characters including a woman by the name of Molly (Lesley Ann Warren) an ex-dancer who got divorce before losing her home, and her pals Sailor (Howard Morris) and Fumes (Teddy Wilson) who are already used to the streets. They're survivors. Bolt isn't. He's not used to reaching mutual agreements like he once did when being rich where it's fight or flight, kill or be killed.<br /><br />While the love connection between Molly and Bolt wasn't necessary to plot, I found \"Life Stinks\" to be one of Mel Brooks' observant films where prior to being a comedy, it shows a tender side compared to his slapstick work such as Blazing Saddles, Young Frankenstein, or Spaceballs for the matter, to show what it's like having something valuable before losing it the next day or on the other hand making a stupid bet like all rich people do when they don't know what to do with their money. Maybe they should give it to the homeless instead of using it like Monopoly money.<br /><br />Or maybe this film will inspire you to help others.\n"
     ]
    }
   ],
   "source": [
    "print('Example Review Before Regular Expressions Performed:\\n\\n', train[1])"
   ]
  },
  {
   "cell_type": "code",
   "execution_count": 9,
   "metadata": {},
   "outputs": [],
   "source": [
    "# define regular expressions function to remove zero-information punctuation, capitalization and other\n",
    "def remove_punctuation_and_other(reviews):\n",
    "    # remove punctuation and capitalization\n",
    "    reviews = [re.compile(\"[.;:!\\'?,\\\"()\\[\\]]\").sub('', review.lower()) for review in reviews]\n",
    "    # remove other zero-info values\n",
    "    remove_other = [re.compile(\"(<br\\s*/><br\\s*/>)|(\\-)|(\\/)\").sub(' ', review) for review in reviews]\n",
    "    # return processed reviews (remove_other)\n",
    "    return remove_other\n",
    "    "
   ]
  },
  {
   "cell_type": "code",
   "execution_count": 10,
   "metadata": {},
   "outputs": [],
   "source": [
    "# apply regex function to reviews\n",
    "train_re = remove_punctuation_and_other(train)\n",
    "test_re = remove_punctuation_and_other(test)"
   ]
  },
  {
   "cell_type": "code",
   "execution_count": 11,
   "metadata": {},
   "outputs": [
    {
     "name": "stdout",
     "output_type": "stream",
     "text": [
      "Same Review After Regular Expressions Function Applied:\n",
      "\n",
      " homelessness or houselessness as george carlin stated has been an issue for years but never a plan to help those on the street that were once considered human who did everything from going to school work or vote for the matter most people think of the homeless as just a lost cause while worrying about things such as racism the war on iraq pressuring kids to succeed technology the elections inflation or worrying if theyll be next to end up on the streets but what if you were given a bet to live on the streets for a month without the luxuries you once had from a home the entertainment sets a bathroom pictures on the wall a computer and everything you once treasure to see what its like to be homeless that is goddard bolts lesson mel brooks who directs who stars as bolt plays a rich man who has everything in the world until deciding to make a bet with a sissy rival jeffery tambor to see if he can live in the streets for thirty days without the luxuries if bolt succeeds he can do what he wants with a future project of making more buildings the bets on where bolt is thrown on the street with a bracelet on his leg to monitor his every move where he cant step off the sidewalk hes given the nickname pepto by a vagrant after its written on his forehead where bolt meets other characters including a woman by the name of molly lesley ann warren an ex dancer who got divorce before losing her home and her pals sailor howard morris and fumes teddy wilson who are already used to the streets theyre survivors bolt isnt hes not used to reaching mutual agreements like he once did when being rich where its fight or flight kill or be killed while the love connection between molly and bolt wasnt necessary to plot i found life stinks to be one of mel brooks observant films where prior to being a comedy it shows a tender side compared to his slapstick work such as blazing saddles young frankenstein or spaceballs for the matter to show what its like having something valuable before losing it the next day or on the other hand making a stupid bet like all rich people do when they dont know what to do with their money maybe they should give it to the homeless instead of using it like monopoly money or maybe this film will inspire you to help others\n"
     ]
    }
   ],
   "source": [
    "# display same review after removal of punctuation, capitalization and other\n",
    "print('Same Review After Regular Expressions Function Applied:\\n\\n', train_re[1])"
   ]
  },
  {
   "cell_type": "markdown",
   "metadata": {},
   "source": [
    "### *2. Remove Stop Words*"
   ]
  },
  {
   "cell_type": "code",
   "execution_count": 12,
   "metadata": {},
   "outputs": [],
   "source": [
    "# define remove stop words (ex: the, i, it...) function\n",
    "stop_words = set(stopwords.words('english'))\n",
    "def one_review(review):\n",
    "    review = [word for word in review.split() if word not in stop_words] \n",
    "    review = ' '.join(review)\n",
    "    return review\n",
    "def remove_stop(reviews):\n",
    "    reviews = [one_review(review) for review in reviews]\n",
    "    return reviews"
   ]
  },
  {
   "cell_type": "code",
   "execution_count": 13,
   "metadata": {},
   "outputs": [],
   "source": [
    "# apply remove stop words function\n",
    "train_stop = remove_stop(train_re)\n",
    "test_stop = remove_stop(test_re)"
   ]
  },
  {
   "cell_type": "code",
   "execution_count": 14,
   "metadata": {},
   "outputs": [
    {
     "name": "stdout",
     "output_type": "stream",
     "text": [
      "Same review after removal of stop words:\n",
      "\n",
      " homelessness houselessness george carlin stated issue years never plan help street considered human everything going school work vote matter people think homeless lost cause worrying things racism war iraq pressuring kids succeed technology elections inflation worrying theyll next end streets given bet live streets month without luxuries home entertainment sets bathroom pictures wall computer everything treasure see like homeless goddard bolts lesson mel brooks directs stars bolt plays rich man everything world deciding make bet sissy rival jeffery tambor see live streets thirty days without luxuries bolt succeeds wants future project making buildings bets bolt thrown street bracelet leg monitor every move cant step sidewalk hes given nickname pepto vagrant written forehead bolt meets characters including woman name molly lesley ann warren ex dancer got divorce losing home pals sailor howard morris fumes teddy wilson already used streets theyre survivors bolt isnt hes used reaching mutual agreements like rich fight flight kill killed love connection molly bolt wasnt necessary plot found life stinks one mel brooks observant films prior comedy shows tender side compared slapstick work blazing saddles young frankenstein spaceballs matter show like something valuable losing next day hand making stupid bet like rich people dont know money maybe give homeless instead using like monopoly money maybe film inspire help others\n"
     ]
    }
   ],
   "source": [
    "print('Same review after removal of stop words:\\n\\n', train_stop[1])"
   ]
  },
  {
   "cell_type": "markdown",
   "metadata": {},
   "source": [
    "### *3. Remove Uncommon Words*"
   ]
  },
  {
   "cell_type": "code",
   "execution_count": 15,
   "metadata": {},
   "outputs": [],
   "source": [
    "# initialize tokenizer and train on training set\n",
    "# allow for one hot encoding\n",
    "t = Tokenizer()\n",
    "t.fit_on_texts(train_stop)"
   ]
  },
  {
   "cell_type": "code",
   "execution_count": 16,
   "metadata": {},
   "outputs": [
    {
     "name": "stdout",
     "output_type": "stream",
     "text": [
      "Top Ten Used Words Before Uncommon Word Removal:\n"
     ]
    },
    {
     "data": {
      "text/plain": [
       "[('movie', 43251),\n",
       " ('film', 38921),\n",
       " ('one', 26399),\n",
       " ('like', 20182),\n",
       " ('good', 15031),\n",
       " ('time', 12615),\n",
       " ('even', 12570),\n",
       " ('would', 12229),\n",
       " ('story', 11879),\n",
       " ('really', 11706)]"
      ]
     },
     "execution_count": 16,
     "metadata": {},
     "output_type": "execute_result"
    }
   ],
   "source": [
    "print('Top Ten Used Words Before Uncommon Word Removal:')\n",
    "sorted(t.word_counts.items(), key=operator.itemgetter(1), reverse=True)[:10]"
   ]
  },
  {
   "cell_type": "code",
   "execution_count": 17,
   "metadata": {},
   "outputs": [],
   "source": [
    "# create a list of words that appear less than 100 times in 25,000 training reviews\n",
    "less_than100 = []\n",
    "for word, counts in t.word_counts.items():\n",
    "    if counts < 100:\n",
    "        less_than100.append(word)\n",
    "# also add to less_than100 'movie' and 'film' since they are\n",
    "# top 2 most frequent words, but add no sentiment value\n",
    "less_than100.extend(('movie', 'film'))\n",
    "# create set from list for faster membership test of words\n",
    "less_than100 = set(less_than100)"
   ]
  },
  {
   "cell_type": "code",
   "execution_count": 18,
   "metadata": {},
   "outputs": [],
   "source": [
    "# define function that will remove less_than100 words from training data\n",
    "def uncommon_one(review):\n",
    "    review = [word for word in review.split() if word not in less_than100] \n",
    "    review = ' '.join(review)\n",
    "    return review\n",
    "def remove_uncommon(reviews):\n",
    "    reviews = [uncommon_one(review) for review in reviews]\n",
    "    return reviews"
   ]
  },
  {
   "cell_type": "code",
   "execution_count": 19,
   "metadata": {},
   "outputs": [],
   "source": [
    "# apply remove_uncommon function to training data\n",
    "train_clean = remove_uncommon(train_stop)\n",
    "test_clean = remove_uncommon(test_stop)"
   ]
  },
  {
   "cell_type": "code",
   "execution_count": 20,
   "metadata": {},
   "outputs": [
    {
     "name": "stdout",
     "output_type": "stream",
     "text": [
      "Same Review After Uncommon Word Removal:\n",
      "\n",
      " george stated issue years never plan help street considered human everything going school work vote matter people think homeless lost cause things racism war kids succeed technology theyll next end streets given bet live streets month without home entertainment sets bathroom pictures wall computer everything treasure see like homeless lesson mel brooks directs stars plays rich man everything world make bet rival see live streets thirty days without succeeds wants future project making thrown street leg every move cant step hes given written meets characters including woman name ann warren ex dancer got divorce losing home howard wilson already used streets theyre survivors isnt hes used like rich fight flight kill killed love connection wasnt necessary plot found life one mel brooks films prior comedy shows tender side compared slapstick work young matter show like something losing next day hand making stupid bet like rich people dont know money maybe give homeless instead using like money maybe help others\n"
     ]
    }
   ],
   "source": [
    "print('Same Review After Uncommon Word Removal:\\n\\n', train_clean[1])"
   ]
  },
  {
   "cell_type": "code",
   "execution_count": 21,
   "metadata": {},
   "outputs": [
    {
     "name": "stdout",
     "output_type": "stream",
     "text": [
      "Unique Words Before Uncommon Words Removed:  95350\n",
      "Unique Words After Uncommon Words Removed:   6690\n"
     ]
    }
   ],
   "source": [
    "print('Unique Words Before Uncommon Words Removed: ', len(np.unique(' '.join(train_stop).split())))\n",
    "print('Unique Words After Uncommon Words Removed:  ', len(np.unique(' '.join(train_clean).split())))"
   ]
  },
  {
   "cell_type": "markdown",
   "metadata": {},
   "source": [
    "### 4. *One-Hot Encoding*"
   ]
  },
  {
   "cell_type": "code",
   "execution_count": 22,
   "metadata": {},
   "outputs": [],
   "source": [
    "# one hot encode train and test data in order to be able to input into deep learning model\n",
    "# each word replaced by integer representing word index\n",
    "vocab_size = 6690\n",
    "encoded_train = [one_hot(review, vocab_size) for review in train_clean]\n",
    "encoded_test = [one_hot(review, vocab_size) for review in test_clean]"
   ]
  },
  {
   "cell_type": "markdown",
   "metadata": {},
   "source": [
    "## Data Exploration and Visualization"
   ]
  },
  {
   "cell_type": "markdown",
   "metadata": {},
   "source": [
    "### *All Data*"
   ]
  },
  {
   "cell_type": "markdown",
   "metadata": {},
   "source": [
    "#### *1. Review Lengths (after preprocessing steps)*"
   ]
  },
  {
   "cell_type": "code",
   "execution_count": 106,
   "metadata": {},
   "outputs": [
    {
     "name": "stdout",
     "output_type": "stream",
     "text": [
      "Longest Reviews:\t [880, 727, 701, 689, 598, 587, 584, 577, 560, 560, 559, 553, 521, 500] \n",
      "\n",
      "Average Review Length:\t 94.19736 \n",
      "\n",
      "Median Review Length:\t 71.0 \n",
      "\n"
     ]
    },
    {
     "data": {
      "image/png": "[encoded data removed]",
      "text/plain": [
       "<Figure size 432x288 with 1 Axes>"
      ]
     },
     "metadata": {
      "needs_background": "light"
     },
     "output_type": "display_data"
    }
   ],
   "source": [
    "# check max review length\n",
    "review_lengths = []\n",
    "for review in encoded_train:\n",
    "    review_lengths.append(len(review))\n",
    "print('Longest Reviews:\\t', sorted(review_lengths, reverse=True)[:14], '\\n')\n",
    "print('Average Review Length:\\t', stat.mean(review_lengths), '\\n')\n",
    "print('Median Review Length:\\t', stat.median(review_lengths), '\\n')\n",
    "\n",
    "# review length after preprocessing\n",
    "ax = sns.distplot(review_lengths, bins=8, kde=False)\n",
    "ax.set(xlabel='Review Length', ylabel='# of Reviews', title='Number of Words per Review')\n",
    "plt.show()"
   ]
  },
  {
   "cell_type": "markdown",
   "metadata": {},
   "source": [
    "From the plot above, we can see that the majority of reviews are below 100 words in length."
   ]
  },
  {
   "cell_type": "markdown",
   "metadata": {},
   "source": [
    "#### *2. Most Frequently Used Words*\n",
    "Words will be counted for every time it is used in a given review; for example, if a word is used 5 times in a given review, all 5 instanecs will be counted."
   ]
  },
  {
   "cell_type": "code",
   "execution_count": 25,
   "metadata": {},
   "outputs": [],
   "source": [
    "# tokenize clean dataset\n",
    "# allows for quick word counts\n",
    "freq = Tokenizer()\n",
    "freq.fit_on_texts(train_clean)"
   ]
  },
  {
   "cell_type": "code",
   "execution_count": 26,
   "metadata": {},
   "outputs": [
    {
     "name": "stdout",
     "output_type": "stream",
     "text": [
      "Most Frequently Used Words:\n",
      "('one', 26399)\n",
      "('like', 20182)\n",
      "('good', 15031)\n",
      "('time', 12615)\n",
      "('even', 12570)\n",
      "('would', 12229)\n",
      "('story', 11879)\n",
      "('really', 11706)\n",
      "('see', 11431)\n",
      "('well', 10529)\n"
     ]
    },
    {
     "data": {
      "image/png": "[encoded data removed]",
      "text/plain": [
       "<Figure size 432x288 with 1 Axes>"
      ]
     },
     "metadata": {
      "needs_background": "light"
     },
     "output_type": "display_data"
    }
   ],
   "source": [
    "# top 10 words used\n",
    "word_counts = sorted(freq.word_counts.items(), key=operator.itemgetter(1), reverse=True)[:10]\n",
    "print('Most Frequently Used Words:')\n",
    "for i in range(10):\n",
    "    print(word_counts[i])\n",
    "    \n",
    "# top 10 word counts bar chart\n",
    "words_plt = []\n",
    "counts_plt = []\n",
    "for word, count in word_counts:\n",
    "    words_plt.append(word)\n",
    "    counts_plt.append(count)\n",
    "count_bar = sns.barplot(words_plt, counts_plt)\n",
    "count_bar.set_title('Most Used Words')\n",
    "count_bar.set(xlabel = 'Words', ylabel = 'Count')\n",
    "count_bar.set_xticklabels(count_bar.get_xticklabels(), rotation=40, ha=\"right\")\n",
    "plt.tight_layout()\n",
    "plt.show()"
   ]
  },
  {
   "cell_type": "markdown",
   "metadata": {},
   "source": [
    "#### *3. Most Frequently Used Words per Review*\n",
    "Words will be counted only once per review; for example, if a word is used 5 times in a given review, only 1 instance will be counted. This will allow for us to see if the most frequenly used words appear in many reviews, or if some words are used repeatedly in reviews."
   ]
  },
  {
   "cell_type": "code",
   "execution_count": 27,
   "metadata": {},
   "outputs": [
    {
     "name": "stdout",
     "output_type": "stream",
     "text": [
      "Most Frequently Used Words:\n",
      "('one', 14061)\n",
      "('like', 11640)\n",
      "('good', 9600)\n",
      "('time', 8677)\n",
      "('even', 8374)\n",
      "('see', 8069)\n",
      "('would', 8039)\n",
      "('really', 7618)\n",
      "('story', 7575)\n",
      "('well', 7443)\n"
     ]
    },
    {
     "data": {
      "image/png": "[encoded data removed]",
      "text/plain": [
       "<Figure size 432x288 with 1 Axes>"
      ]
     },
     "metadata": {
      "needs_background": "light"
     },
     "output_type": "display_data"
    }
   ],
   "source": [
    "# most used words counting only one instance per review\n",
    "word_docs_counts = sorted(freq.word_docs.items(), key=operator.itemgetter(1), reverse=True)[:10]\n",
    "print('Most Frequently Used Words:')\n",
    "for i in range(10):\n",
    "    print(word_docs_counts[i])\n",
    "    \n",
    "# top 10 word counts bar chart\n",
    "words_docs_plt = []\n",
    "counts_docs_plt = []\n",
    "for word, count in word_docs_counts:\n",
    "    words_docs_plt.append(word)\n",
    "    counts_docs_plt.append(count)\n",
    "count_docs_bar = sns.barplot(words_docs_plt, counts_docs_plt)\n",
    "count_docs_bar.set_title('Most Used Words (One Count per Review)')\n",
    "count_docs_bar.set(xlabel = 'Words', ylabel = '# of Review Appearances')\n",
    "count_docs_bar.set_xticklabels(count_docs_bar.get_xticklabels(), rotation=40, ha=\"right\")\n",
    "plt.tight_layout()\n",
    "plt.show()"
   ]
  },
  {
   "cell_type": "markdown",
   "metadata": {},
   "source": [
    "From comparing the above two methods of counting words in the training dataset we can see that the most used words in both are the same, but the order of some words change. Also, it can be noted that the most used words do add sentiment value, but more context is needed for the deep learning model to classify correctly. For example, the word \"really\" is the eight most used word in the training dataset, but that does not give info as to how it was used in the review. The word \"really\" could have been used in a review either as \"i really like this movie\" or as \"this movie really sucks\"; both reviews use the word \"really\" but contain a completely oppositive sentiment towards the movie being reviewed. In order to account for this, we will use Kera's embedding layer, which takes into account the position of words relative to one another, or in other words the context of the words being used."
   ]
  },
  {
   "cell_type": "markdown",
   "metadata": {},
   "source": [
    "### *Positive vs. Negative Reviews*"
   ]
  },
  {
   "cell_type": "code",
   "execution_count": 114,
   "metadata": {},
   "outputs": [],
   "source": [
    "# separate training data into negative/positive label\n",
    "negative_reviews = []\n",
    "positive_reviews = []\n",
    "# review lengths\n",
    "pos_len = []\n",
    "neg_len = []\n",
    "\n",
    "for review, label in zip(train_clean, train_label):\n",
    "    if label == 0:\n",
    "        negative_reviews.append(review)\n",
    "        neg_len.append(len(review.split()))\n",
    "    else:\n",
    "        positive_reviews.append(review)\n",
    "        pos_len.append(len(review.split()))"
   ]
  },
  {
   "cell_type": "code",
   "execution_count": 115,
   "metadata": {},
   "outputs": [
    {
     "name": "stdout",
     "output_type": "stream",
     "text": [
      "Number of Positive Reviews:  12500\n",
      "Number of Negative Reviews:  12500\n"
     ]
    }
   ],
   "source": [
    "print('Number of Positive Reviews: ', len(positive_reviews))\n",
    "print('Number of Negative Reviews: ', len(negative_reviews))"
   ]
  },
  {
   "cell_type": "code",
   "execution_count": 116,
   "metadata": {},
   "outputs": [
    {
     "name": "stdout",
     "output_type": "stream",
     "text": [
      "Average Positive Review Length:\t 94.79352\n",
      "Median Positive Review Length:\t 71.0 \n",
      "\n",
      "Average Negative Review Length:\t 93.892\n",
      "Median Negative Review Length:\t 72.0\n"
     ]
    }
   ],
   "source": [
    "# check positive and negative review length statistics \n",
    "\n",
    "print('Average Positive Review Length:\\t', stat.mean(pos_len))\n",
    "print('Median Positive Review Length:\\t', stat.median(pos_len), '\\n')\n",
    "\n",
    "print('Average Negative Review Length:\\t', stat.mean(neg_len) )\n",
    "print('Median Negative Review Length:\\t', stat.median(neg_len))"
   ]
  },
  {
   "cell_type": "code",
   "execution_count": 30,
   "metadata": {},
   "outputs": [],
   "source": [
    "# create a tokenizer for positive reviews\n",
    "pos = Tokenizer()\n",
    "pos.fit_on_texts(positive_reviews)\n",
    "\n",
    "# create a tokenizer for negative reviews\n",
    "neg = Tokenizer()\n",
    "neg.fit_on_texts(negative_reviews)"
   ]
  },
  {
   "cell_type": "code",
   "execution_count": 32,
   "metadata": {},
   "outputs": [],
   "source": [
    "# sort positive reviews' word counts from most to least frequent\n",
    "pos_sorted = sorted(pos.word_counts.items(), key=operator.itemgetter(1), reverse=True)\n",
    "# create a set of positive words\n",
    "positive_words = set([word for word, counts in pos_sorted])\n",
    "\n",
    "# sort negative reviews' word counts from most to least frequent\n",
    "neg_sorted = sorted(neg.word_counts.items(), key=operator.itemgetter(1), reverse=True)\n",
    "# create a set of negative words\n",
    "negative_words = set([word for word, counts in neg_sorted])"
   ]
  },
  {
   "cell_type": "markdown",
   "metadata": {},
   "source": [
    "#### *1. Word Counts*\n",
    "Below we will explore the most used words in positive and negative reviews. "
   ]
  },
  {
   "cell_type": "code",
   "execution_count": 99,
   "metadata": {},
   "outputs": [
    {
     "name": "stdout",
     "output_type": "stream",
     "text": [
      "Most Frequently Used Words in Positive Reviews:\n",
      "\n",
      "('one', 13431)\n",
      "('like', 8987)\n",
      "('good', 7660)\n",
      "('story', 6712)\n",
      "('time', 6455)\n",
      "('great', 6366)\n",
      "('well', 6335)\n",
      "('see', 6006)\n",
      "('also', 5521)\n",
      "('really', 5466)\n"
     ]
    },
    {
     "data": {
      "image/png": "[encoded data removed]",
      "text/plain": [
       "<Figure size 432x288 with 1 Axes>"
      ]
     },
     "metadata": {
      "needs_background": "light"
     },
     "output_type": "display_data"
    }
   ],
   "source": [
    "print('Most Frequently Used Words in Positive Reviews:\\n')\n",
    "for i in range(10):\n",
    "    print(pos_sorted[i])\n",
    "    \n",
    "# plot top 10 word counts bar chart\n",
    "pos_words = []\n",
    "pos_counts = []\n",
    "for word, count in pos_sorted[:10]:\n",
    "    pos_words.append(word)\n",
    "    pos_counts.append(count)\n",
    "pos_wc = sns.barplot(pos_words, pos_counts)\n",
    "pos_wc.set_title('Top 10 Positive Review Word Counts')\n",
    "pos_wc.set(xlabel = 'Words', ylabel = 'Word Count')\n",
    "pos_wc.set_xticklabels(pos_wc.get_xticklabels(), rotation=40, ha=\"right\")\n",
    "plt.tight_layout()\n",
    "plt.show()"
   ]
  },
  {
   "cell_type": "code",
   "execution_count": 98,
   "metadata": {},
   "outputs": [
    {
     "name": "stdout",
     "output_type": "stream",
     "text": [
      "Most Frequently Used Words in Negative Reviews:\n",
      "\n",
      "('one', 12968)\n",
      "('like', 11195)\n",
      "('even', 7641)\n",
      "('good', 7371)\n",
      "('bad', 7338)\n",
      "('would', 6898)\n",
      "('really', 6240)\n",
      "('time', 6160)\n",
      "('see', 5425)\n",
      "('story', 5167)\n"
     ]
    },
    {
     "data": {
      "image/png": "[encoded data removed]",
      "text/plain": [
       "<Figure size 432x288 with 1 Axes>"
      ]
     },
     "metadata": {
      "needs_background": "light"
     },
     "output_type": "display_data"
    }
   ],
   "source": [
    "print('Most Frequently Used Words in Negative Reviews:\\n')\n",
    "for i in range(10):\n",
    "    print(neg_sorted[i])\n",
    "    \n",
    "# plot top 10 word counts bar chart\n",
    "neg_words = []\n",
    "neg_counts = []\n",
    "for word, count in neg_sorted[:10]:\n",
    "    neg_words.append(word)\n",
    "    neg_counts.append(count)\n",
    "neg_wc = sns.barplot(neg_words, neg_counts)\n",
    "neg_wc.set_title('Top 10 Negative Review Word Counts')\n",
    "neg_wc.set(xlabel = 'Words', ylabel = 'Word Count')\n",
    "neg_wc.set_xticklabels(neg_wc.get_xticklabels(), rotation=40, ha=\"right\")\n",
    "plt.tight_layout()\n",
    "plt.show()"
   ]
  },
  {
   "cell_type": "code",
   "execution_count": 102,
   "metadata": {},
   "outputs": [
    {
     "name": "stdout",
     "output_type": "stream",
     "text": [
      "Top Words in Positive Top 10 but not in Negative Top 10: {'also', 'great', 'well'}\n",
      "Top Words in Negative Top 10 but not in Positive Top 10: {'even', 'bad', 'would'}\n"
     ]
    }
   ],
   "source": [
    "neg_words = set(neg_words)\n",
    "pos_words = set(pos_words)\n",
    "print('Top Words in Positive Top 10 but not in Negative Top 10:', pos_words.difference(neg_words))\n",
    "print('Top Words in Negative Top 10 but not in Positive Top 10:', neg_words.difference(pos_words))"
   ]
  },
  {
   "cell_type": "markdown",
   "metadata": {},
   "source": [
    "After plotting the top ten most frequent words in both positive and negative reviews, it can be seen that positive and negative reviews share most of the top ten words found in the datasets. However, it can be noted that the words they differ on, do not add much sentiment with the exception of \"great\" and \"bad\". The word \"great\" is one of positive reviews' and not one of negative reviews' top ten words; on the other hand, the word \"bad\" appears in negative reviews' top ten most common words and not in positive reviews'. Both of those make sense as \"great\" has a greater positive connotation, and the word \"bad\" has a greater negative connotation. Next we will explore the top words found only in either positive or negative reviews but not both."
   ]
  },
  {
   "cell_type": "markdown",
   "metadata": {},
   "source": [
    "#### *2. Exclusive Word Document Counts*\n",
    "Below we will see what the most common words appearing exclusively in either positive or negative reviews are. Words will be counted once per review, meaning that if a word is used more than once in a review, only the first instance of the word will be counted."
   ]
  },
  {
   "cell_type": "code",
   "execution_count": 74,
   "metadata": {},
   "outputs": [],
   "source": [
    "# sort positive reviews' word document counts from most to least frequent\n",
    "pos_sorted_once = sorted(pos.word_docs.items(), key=operator.itemgetter(1), reverse=True)\n",
    "# create a set of positive document words\n",
    "positive_words_once = set([word for word, counts in pos_sorted_once])\n",
    "\n",
    "# sort negative reviews' word document counts from most to least frequent\n",
    "neg_sorted_once = sorted(neg.word_docs.items(), key=operator.itemgetter(1), reverse=True)\n",
    "# create a set of negative document words\n",
    "negative_words_once = set([word for word, counts in neg_sorted_once])"
   ]
  },
  {
   "cell_type": "code",
   "execution_count": 75,
   "metadata": {},
   "outputs": [],
   "source": [
    "# document words found in positive reviews but not in negative reviews\n",
    "only_positive_once = []\n",
    "for word, count in pos_sorted_once:\n",
    "    if word in positive_words_once.difference(negative_words_once):\n",
    "        only_positive_once.append((word, count))\n",
    "# sort words by document count\n",
    "only_positive_once.sort(key=operator.itemgetter(1), reverse=True)\n",
    "\n",
    "# words found in negative reviews but not in positive reviews\n",
    "only_negative_once = []\n",
    "for word, count in neg_sorted_once:\n",
    "    if word in negative_words_once.difference(positive_words_once):\n",
    "        only_negative_once.append((word, count))\n",
    "# sort words by count\n",
    "only_negative_once.sort(key=operator.itemgetter(1), reverse=True)"
   ]
  },
  {
   "cell_type": "code",
   "execution_count": 79,
   "metadata": {},
   "outputs": [
    {
     "name": "stdout",
     "output_type": "stream",
     "text": [
      "10 Most Frequent Positive Only Words (Counted Once per Review):\n",
      "\n",
      "('edie', 40)\n",
      "('3000', 4)\n",
      "('too', 4)\n",
      "('43', 3)\n",
      "('2500', 3)\n",
      "('iamaseal2', 3)\n",
      "('hotmailcom', 3)\n",
      "('rating13', 3)\n",
      "('wonderland', 3)\n",
      "('92', 2)\n"
     ]
    },
    {
     "data": {
      "image/png": "[encoded data removed]",
      "text/plain": [
       "<Figure size 432x288 with 1 Axes>"
      ]
     },
     "metadata": {
      "needs_background": "light"
     },
     "output_type": "display_data"
    }
   ],
   "source": [
    "print('10 Most Frequent Positive Only Words (Counted Once per Review):\\n')\n",
    "for i in range(10):\n",
    "    print(only_positive_once[i])\n",
    "    \n",
    "# plot positive word document count as bar chart\n",
    "pos_words_once_plt = []\n",
    "pos_counts_once_plt = []\n",
    "for word, count in only_positive_once[:10]:\n",
    "    pos_words_once_plt.append(word)\n",
    "    pos_counts_once_plt.append(count)\n",
    "pos_once_bar = sns.barplot(pos_words_once_plt, pos_counts_once_plt)\n",
    "pos_once_bar.set_title('Top 10 Positive Only Words (Counted Once)')\n",
    "pos_once_bar.set(xlabel = 'Words', ylabel = '# of Reviews Appearances')\n",
    "pos_once_bar.set_xticklabels(pos_once_bar.get_xticklabels(), rotation=40, ha=\"right\")\n",
    "plt.tight_layout()\n",
    "plt.show()"
   ]
  },
  {
   "cell_type": "code",
   "execution_count": 80,
   "metadata": {},
   "outputs": [
    {
     "name": "stdout",
     "output_type": "stream",
     "text": [
      "10 Most Frequent Negative Only Words (Counted Once per Review):\n",
      "\n",
      "('300', 7)\n",
      "('250000', 7)\n",
      "('wasn', 5)\n",
      "('950', 5)\n",
      "('8p', 5)\n",
      "('couldn', 5)\n",
      "('gasp', 5)\n",
      "('they', 5)\n",
      "('700', 4)\n",
      "('bulls', 4)\n"
     ]
    },
    {
     "data": {
      "image/png": "[encoded data removed]",
      "text/plain": [
       "<Figure size 432x288 with 1 Axes>"
      ]
     },
     "metadata": {
      "needs_background": "light"
     },
     "output_type": "display_data"
    }
   ],
   "source": [
    "print('10 Most Frequent Negative Only Words (Counted Once per Review):\\n')\n",
    "for i in range(10):\n",
    "    print(only_negative_once[i])\n",
    "    \n",
    "# negative word document count bar chart\n",
    "neg_words_once_plt = []\n",
    "neg_counts_once_plt = []\n",
    "for word, count in only_negative_once[:10]:\n",
    "    neg_words_once_plt.append(word)\n",
    "    neg_counts_once_plt.append(count)\n",
    "neg_once_bar = sns.barplot(neg_words_once_plt, neg_counts_once_plt)\n",
    "neg_once_bar.set_title('Top 10 Negative Only Words (Counted Once)')\n",
    "neg_once_bar.set(xlabel = 'Words', ylabel = '# of Reviews Appearances')\n",
    "neg_once_bar.set_xticklabels(neg_once_bar.get_xticklabels(), rotation=40, ha=\"right\")\n",
    "plt.tight_layout()\n",
    "plt.show()"
   ]
  },
  {
   "cell_type": "markdown",
   "metadata": {},
   "source": [
    "After counting the top words appearing exclusively in either positive or negative reviews, it can be noted that the top ten most common words in each type of review do not seem to add any form of sentiment to the review. This further supports our idea that we will have to use kera's embedding layer to account for the context of words, given that the most frequent unique words found only in either positive or negative reviews do not add any sentiment information to the review. Also, the word \"edie\" appears more than normal in positive reviews, we are going to look at some reviews in the next section to see how \"edie\" is being used in positive reviews."
   ]
  },
  {
   "cell_type": "markdown",
   "metadata": {},
   "source": [
    "#### *3. \"edie\"?*\n",
    "In this section we will see what edie refers to. Is edie an actor?"
   ]
  },
  {
   "cell_type": "code",
   "execution_count": 96,
   "metadata": {},
   "outputs": [],
   "source": [
    "# find all reviews where edie is mentioned\n",
    "edie_reviews = []\n",
    "for review in positive_reviews:\n",
    "    if 'edie' in set(review.split()):\n",
    "        edie_reviews.append(review)"
   ]
  },
  {
   "cell_type": "code",
   "execution_count": 157,
   "metadata": {},
   "outputs": [
    {
     "name": "stdout",
     "output_type": "stream",
     "text": [
      "sample review containing \"edie\":\n",
      "\n",
      " find intriguing lee jackie sister cousin women would make big edie little edie subject certainly could considered family closet extra features dvd include several contemporary fashion ideas women id say anyone interested fashion would find discussion fascinating ie missing something hard come though\n"
     ]
    }
   ],
   "source": [
    "# example edie in review\n",
    "print('sample review containing \"edie\":\\n\\n', edie_reviews[3])"
   ]
  },
  {
   "cell_type": "markdown",
   "metadata": {},
   "source": [
    "It turns out that most of the reviews containing \"edie\" in the review are referring to a highly rated 1975 movie called *Grey Gardens*. The word \"edie\" will not generalize much when training the deep learning model, since it corresponds to a single movie. Therefore, it does not add much additional information if the model is tested on another movie other than *Grey Gardens*. However, I will leave it in the training set, since the same movie might appear in the any future test review, in which it could aid the classification of that particular review. "
   ]
  },
  {
   "cell_type": "markdown",
   "metadata": {},
   "source": [
    "#### *4. Polarizing Word Counts*\n",
    "Below we will explore word counts of each type of review regarding highly sentimental words, or polarizing."
   ]
  },
  {
   "cell_type": "code",
   "execution_count": 103,
   "metadata": {},
   "outputs": [
    {
     "name": "stdout",
     "output_type": "stream",
     "text": [
      "Positive Reviews' Polar Word Counts:\n",
      "\n",
      "love : 4270\n",
      "awesome : 359\n",
      "hate : 344\n",
      "boring : 329\n",
      "exciting : 300\n",
      "horrible : 154\n",
      "\n",
      "-------------------\n",
      "\n",
      "Negative Reviews' Polar Word Counts:\n",
      "\n",
      "love : 2126\n",
      "boring : 1457\n",
      "horrible : 1038\n",
      "hate : 445\n",
      "exciting : 206\n",
      "awesome : 118\n"
     ]
    },
    {
     "data": {
      "image/png": "[encoded data removed]",
      "text/plain": [
       "<Figure size 432x288 with 1 Axes>"
      ]
     },
     "metadata": {
      "needs_background": "light"
     },
     "output_type": "display_data"
    }
   ],
   "source": [
    "polar_set = set(['hate', 'love', 'awesome', 'horrible', 'boring', 'exciting'])\n",
    "polar_pos = []\n",
    "polar_neg = []\n",
    "print(\"Positive Reviews' Polar Word Counts:\\n\")\n",
    "for word, count in pos_sorted:\n",
    "    if word in polar_set:\n",
    "        polar_pos.append(count)\n",
    "        print(word, ':', count)\n",
    "print(\"\\n-------------------\\n\\nNegative Reviews' Polar Word Counts:\\n\")\n",
    "for word, count in neg_sorted:\n",
    "    if word  in polar_set:\n",
    "        polar_neg.append(count)\n",
    "        print(word, ':', count)\n",
    "        \n",
    "        # plot polarizing word counts\n",
    "N = 6\n",
    "ind = np.arange(N) \n",
    "width = 0.35       \n",
    "plt.bar(ind, polar_pos, width, label='Positive Reviews', color='limegreen')\n",
    "plt.bar(ind + width, polar_neg, width,\n",
    "    label='Negative Reviews', color='indianred')\n",
    "\n",
    "plt.xlabel('Words')\n",
    "plt.ylabel('Word Count')\n",
    "plt.title('Polarizing Word Counts')\n",
    "\n",
    "plt.xticks(ind + width / 2, ('love', 'boring', 'horrible', 'hate', 'exciting', 'awesome'))\n",
    "plt.legend(loc='best')\n",
    "plt.show()"
   ]
  },
  {
   "cell_type": "markdown",
   "metadata": {},
   "source": [
    "As it can be seen, even though words exclusively found in either positive or negative reviews don't contain any valuable sentiment, a pattern can be seen in the word counts of words rich in sentiment connotation. Words with positive connotations have way higher word counts in positive reviews and vice versa. For example, the word \"love\", even though it shows up in both types of reviews, it can be seen that the word \"love\" appears more than twice as frequent in positive reviews than it does in negative reviews. Therefore, word context is still really important, but it turns out that words by themselves will prove useful when training the deep learning model to better understand the difference between positive and negative reviews."
   ]
  },
  {
   "cell_type": "code",
   "execution_count": null,
   "metadata": {},
   "outputs": [],
   "source": []
  }
 ],
 "metadata": {
  "kernelspec": {
   "display_name": "Python 3",
   "language": "python",
   "name": "python3"
  },
  "language_info": {
   "codemirror_mode": {
    "name": "ipython",
    "version": 3
   },
   "file_extension": ".py",
   "mimetype": "text/x-python",
   "name": "python",
   "nbconvert_exporter": "python",
   "pygments_lexer": "ipython3",
   "version": "3.6.8"
  }
 },
 "nbformat": 4,
 "nbformat_minor": 2
}
